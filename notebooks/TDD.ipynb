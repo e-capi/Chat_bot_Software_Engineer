{
 "cells": [
  {
   "cell_type": "code",
   "execution_count": 17,
   "id": "952f0f3d",
   "metadata": {},
   "outputs": [],
   "source": [
    "import requests\n",
    "import sqlite3"
   ]
  },
  {
   "cell_type": "code",
   "execution_count": 14,
   "id": "945f4028",
   "metadata": {},
   "outputs": [],
   "source": [
    "#API root and auth\n",
    "sale_id_api = 'https://logistics-api-dot-active-thunder-329100.rj.r.appspot.com'\n",
    "chip_api = 'https://telecom-api-dot-active-thunder-329100.rj.r.appspot.com'\n",
    "conversations_api = 'https://chats-api-dot-active-thunder-329100.rj.r.appspot.com'\n",
    "header = {'authorization': 'teste'} #auth code\n",
    "\n",
    "#HTTP Requests\n",
    "#   Sale API\n",
    "HTTP_request_sale_track = '/tracking'\n",
    "HTTP_request_sale_zip = '/zip_code'\n",
    "#   Chip Api\n",
    "HTTP_request_chip = '/chip_status'\n",
    "#   Conversation API\n",
    "HTTP_request_conversation = '/conversations'\n",
    "HTTP_request_conversation_info = '/conversation_info'\n",
    "    #send response\n",
    "HTTP_send_conversation = '/send_message'"
   ]
  },
  {
   "cell_type": "markdown",
   "id": "c6ff1543",
   "metadata": {},
   "source": [
    "# API test"
   ]
  },
  {
   "cell_type": "code",
   "execution_count": 51,
   "id": "c6aca684",
   "metadata": {},
   "outputs": [
    {
     "name": "stdout",
     "output_type": "stream",
     "text": [
      "Api's test passed!\n"
     ]
    }
   ],
   "source": [
    "def check_apis_connection():\n",
    "    api_list = [sale_id_api, chip_api, conversations_api]\n",
    "\n",
    "    for api in api_list:\n",
    "\n",
    "        response = requests.get(api)\n",
    "        assert isinstance(response.raise_for_status(), None)\n",
    "\n",
    "    return print(\"Api's test passed!\")\n",
    "\n",
    "check_apis() #need to remove it ?"
   ]
  },
  {
   "cell_type": "markdown",
   "id": "e7df6087",
   "metadata": {},
   "source": [
    "# SQL test"
   ]
  },
  {
   "cell_type": "code",
   "execution_count": 49,
   "id": "e6dca3ae",
   "metadata": {},
   "outputs": [],
   "source": [
    "\n",
    "conn = sqlite3.connect('../Chat_bot_Software_Engineer/data/simulation-db') #quitar ../\n",
    "assert isinstance(conn,sqlite3.Connection)"
   ]
  },
  {
   "cell_type": "code",
   "execution_count": null,
   "id": "033e801e",
   "metadata": {},
   "outputs": [],
   "source": [
    "def check_sql_connection():\n",
    "    assert isinstance(conn,sqlite3.Connection)"
   ]
  }
 ],
 "metadata": {
  "kernelspec": {
   "display_name": "Python 3 (ipykernel)",
   "language": "python",
   "name": "python3"
  },
  "language_info": {
   "codemirror_mode": {
    "name": "ipython",
    "version": 3
   },
   "file_extension": ".py",
   "mimetype": "text/x-python",
   "name": "python",
   "nbconvert_exporter": "python",
   "pygments_lexer": "ipython3",
   "version": "3.8.12"
  },
  "toc": {
   "base_numbering": 1,
   "nav_menu": {},
   "number_sections": true,
   "sideBar": true,
   "skip_h1_title": false,
   "title_cell": "Table of Contents",
   "title_sidebar": "Contents",
   "toc_cell": false,
   "toc_position": {},
   "toc_section_display": true,
   "toc_window_display": false
  }
 },
 "nbformat": 4,
 "nbformat_minor": 5
}
