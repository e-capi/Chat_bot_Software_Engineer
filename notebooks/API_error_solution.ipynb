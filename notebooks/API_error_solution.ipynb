{
 "cells": [
  {
   "cell_type": "code",
   "execution_count": 1,
   "id": "8f69da99",
   "metadata": {},
   "outputs": [],
   "source": [
    "import sqlite3\n",
    "import requests\n",
    "import string"
   ]
  },
  {
   "cell_type": "code",
   "execution_count": 2,
   "id": "61def97b",
   "metadata": {},
   "outputs": [],
   "source": [
    "#API root and auth\n",
    "sale_id_api = 'https://logistics-api-dot-active-thunder-329100.rj.r.appspot.com'\n",
    "chip_api = 'https://telecom-api-dot-active-thunder-329100.rj.r.appspot.com'\n",
    "conversations_api = 'https://chats-api-dot-active-thunder-329100.rj.r.appspot.com'\n",
    "header = {'authorization': 'teste'} #auth code\n",
    "\n",
    "#HTTP Requests\n",
    "#   Sale API\n",
    "HTTP_request_sale_track = '/tracking'\n",
    "HTTP_request_sale_zip = '/zip_code'\n",
    "#   Chip Api\n",
    "HTTP_request_chip = '/chip_status'\n",
    "#   Conversation API\n",
    "HTTP_request_conversation = '/conversations'\n",
    "HTTP_request_conversation_info = '/conversation_info'"
   ]
  },
  {
   "cell_type": "code",
   "execution_count": 3,
   "id": "f55eb998",
   "metadata": {},
   "outputs": [],
   "source": [
    "#get for the first act conversation /!\\ need to do it for all act convers\n",
    "def get_sale_id_SQL(merchant_id): #for now initialize to first act conv\n",
    "#     conversation=generate_act_conv_info\n",
    "#     conversation = conversation[0] #TBDelt when implemented on asw_convers\n",
    "    \n",
    "#     merchant_id = conversation.get('merchant_id')\n",
    "    \n",
    "    #/!\\ SQL Hardcoded Implement Cloud SQL on GCP\n",
    "    conn = sqlite3.connect('/home/ecapi/code/e-capi/Chat_bot_Software_Engineer/Chat_bot_Software_Engineer/data/simulation-db')\n",
    "    c = conn.cursor()\n",
    "    query = \"\"\"\n",
    "        SELECT id_sale\n",
    "        FROM sales\n",
    "        WHERE sales.merchant_id = ?\n",
    "    \"\"\" \n",
    "    c.execute(query, (merchant_id,))\n",
    "    sale_id = c.fetchone()\n",
    "    return {\"id_sale\": str(sale_id[0])} #gives a tupple, with a second null arg"
   ]
  },
  {
   "cell_type": "code",
   "execution_count": 4,
   "id": "c68bcb78",
   "metadata": {},
   "outputs": [],
   "source": [
    "def generate_sale_tracking_info(params_request):\n",
    "    contact_info = 'customer_service@help.br'\n",
    "    url = sale_id_api+HTTP_request_sale_track\n",
    "\n",
    "    try:\n",
    "        response = requests.post(url, json=params_request, headers=header)\n",
    "        response.raise_for_status()\n",
    "        \n",
    "    except requests.exceptions.HTTPError as errh:\n",
    "        return f\"An Http Error occurred: Please, contact us at: {contact_info}\"\n",
    "    except requests.exceptions.ConnectionError as errc:\n",
    "        return f\"A Connection Error occurred: Please, try again later or contact us at: {contact_info}\"\n",
    "    except requests.exceptions.Timeout as errt:\n",
    "        return f\"A Timeout Error occurred: Please, try again later or contact us at: {contact_info}\"\n",
    "    except requests.exceptions.RequestException as err:\n",
    "        return f\"An Unknown Error occurred: Please, contact us at: {contact_info}\"       \n",
    "    \n",
    "    return response.json()"
   ]
  },
  {
   "cell_type": "code",
   "execution_count": 5,
   "id": "cd1ea180",
   "metadata": {},
   "outputs": [],
   "source": [
    "def generate_sale_zip_info_v2(params_request):\n",
    "    contact_info = 'customer_service@help.br'\n",
    "    url = sale_id_api+HTTP_request_sale_zip \n",
    "\n",
    "    try:\n",
    "        response = requests.post(url, json=params_request, headers=header)\n",
    "        response.raise_for_status()\n",
    "        \n",
    "    except requests.exceptions.HTTPError as errh:\n",
    "        return f\"An Http Error occurred: Please, contact us at: {contact_info}\"\n",
    "    except requests.exceptions.ConnectionError as errc:\n",
    "        return f\"A Connection Error occurred: Please, try again later or contact us at: {contact_info}\"\n",
    "    except requests.exceptions.Timeout as errt:\n",
    "        return f\"A Timeout Error occurred: Please, try again later or contact us at: {contact_info}\"\n",
    "    except requests.exceptions.RequestException as err:\n",
    "        return f\"An Unknown Error occurred: Please, contact us at: {contact_info}\"\n",
    "    \n",
    "    return response.json()"
   ]
  },
  {
   "cell_type": "code",
   "execution_count": 6,
   "id": "57f21ec5",
   "metadata": {},
   "outputs": [],
   "source": [
    "def generate_chip_info(params_request):\n",
    "    contact_info = 'customer_service@help.br'\n",
    "    url = chip_api+HTTP_request_chip\n",
    "    \n",
    "    try:\n",
    "        response = requests.post(url, json=params_request, headers=header)\n",
    "        response.raise_for_status()\n",
    "        \n",
    "    except requests.exceptions.HTTPError as errh:\n",
    "        return f\"An Http Error occurred: Please, contact us at: {contact_info}\"\n",
    "    except requests.exceptions.ConnectionError as errc:\n",
    "        return f\"A Connection Error occurred: Please, try again later or contact us at: {contact_info}\"\n",
    "    except requests.exceptions.Timeout as errt:\n",
    "        return f\"A Timeout Error occurred: Please, try again later or contact us at: {contact_info}\"\n",
    "    except requests.exceptions.RequestException as err:\n",
    "        return f\"An Unknown Error occurred: Please, contact us at: {contact_info}\"\n",
    "    \n",
    "    return response.json()"
   ]
  },
  {
   "cell_type": "code",
   "execution_count": 7,
   "id": "0562312e",
   "metadata": {},
   "outputs": [],
   "source": [
    "#all convs info list\n",
    "def generate_all_act_conv_info():\n",
    "    url = conversations_api+HTTP_request_conversation\n",
    "    response = requests.post(url, headers=header)\n",
    "    json_response = response.json() #retrieve active conversations ID\n",
    "\n",
    "    active_chat_list = [] #Create a list of active conversations info\n",
    "    for values in json_response.values():\n",
    "        for val in values:\n",
    "            params_conver_info = {'conversation_id': str(val)}\n",
    "            response = requests.post(conversations_api+HTTP_request_conversation_info, headers=header, json=params_conver_info)\n",
    "            active_chat_list.append(response.json())\n",
    "\n",
    "        return active_chat_list"
   ]
  },
  {
   "cell_type": "code",
   "execution_count": 8,
   "id": "efc98e06",
   "metadata": {},
   "outputs": [],
   "source": [
    "#active conv list\n",
    "def generate_act_convs_list():\n",
    "    url = conversations_api+HTTP_request_conversation\n",
    "    response = requests.post(url, headers=header)\n",
    "    json_response = response.json() #retrieve active conversations ID\n",
    "    \n",
    "    active_convs_list = json_response.get('conversation_ids')\n",
    "    return active_convs_list"
   ]
  },
  {
   "cell_type": "code",
   "execution_count": 9,
   "id": "1bfc8866",
   "metadata": {},
   "outputs": [],
   "source": [
    "def generate_act_conv_info(conversation_id):\n",
    "    \n",
    "    url = conversations_api+HTTP_request_conversation_info\n",
    "    params = {\"conversation_id\": conversation_id}\n",
    "    response = requests.post(url, json=params, headers=header)\n",
    "    json_response = response.json()\n",
    "    \n",
    "    return json_response"
   ]
  },
  {
   "cell_type": "code",
   "execution_count": 10,
   "id": "bac4ab91",
   "metadata": {},
   "outputs": [],
   "source": [
    "def generate_info_of_conv(conversation_id, info_needed):\n",
    "    \n",
    "    conversation_id = str(conversation_id)\n",
    "    info_needed = str(info_needed)\n",
    "    \n",
    "    url = conversations_api+HTTP_request_conversation_info\n",
    "    params = {\"conversation_id\": conversation_id}\n",
    "    response = requests.post(url, json=params, headers=header)\n",
    "    json_response = response.json()\n",
    "\n",
    "    info = json_response.get(info_needed)\n",
    "    \n",
    "    return info"
   ]
  },
  {
   "cell_type": "code",
   "execution_count": 11,
   "id": "f4a45556",
   "metadata": {},
   "outputs": [
    {
     "ename": "NameError",
     "evalue": "name 'generate' is not defined",
     "output_type": "error",
     "traceback": [
      "\u001b[0;31m---------------------------------------------------------------------------\u001b[0m",
      "\u001b[0;31mNameError\u001b[0m                                 Traceback (most recent call last)",
      "Input \u001b[0;32mIn [11]\u001b[0m, in \u001b[0;36m<module>\u001b[0;34m\u001b[0m\n\u001b[0;32m----> 1\u001b[0m \u001b[43mgenerate\u001b[49m\n",
      "\u001b[0;31mNameError\u001b[0m: name 'generate' is not defined"
     ]
    }
   ],
   "source": [
    "generate"
   ]
  },
  {
   "cell_type": "code",
   "execution_count": null,
   "id": "aea962d5",
   "metadata": {},
   "outputs": [],
   "source": [
    "generate_all_act_conv_info()"
   ]
  },
  {
   "cell_type": "code",
   "execution_count": null,
   "id": "0fe22b91",
   "metadata": {},
   "outputs": [],
   "source": [
    "generate_act_convs_list()"
   ]
  },
  {
   "cell_type": "code",
   "execution_count": null,
   "id": "ed512f53",
   "metadata": {},
   "outputs": [],
   "source": [
    "generate_act_conv_info('754895')"
   ]
  },
  {
   "cell_type": "code",
   "execution_count": null,
   "id": "1fb85325",
   "metadata": {},
   "outputs": [],
   "source": [
    "get_sale_id_SQL('395023')"
   ]
  },
  {
   "cell_type": "code",
   "execution_count": null,
   "id": "5825f260",
   "metadata": {},
   "outputs": [],
   "source": [
    "generate_sale_tracking_info({'id_sale': '395023'})"
   ]
  },
  {
   "cell_type": "code",
   "execution_count": null,
   "id": "3556e1fb",
   "metadata": {},
   "outputs": [],
   "source": [
    "generate_sale_zip_info_v2({'zip_code': 'NA'})"
   ]
  },
  {
   "cell_type": "code",
   "execution_count": null,
   "id": "78bc9c6d",
   "metadata": {},
   "outputs": [],
   "source": [
    "def delivery_api_status(param, code):\n",
    "    \n",
    "    code = str(code)\n",
    "    param = str(param)\n",
    "    \n",
    "    if code == 'zip_code':\n",
    "        response = generate_sale_zip_info_v2({code: param})\n",
    "    elif code == 'id_sale':\n",
    "        response = generate_sale_tracking_info({code: param})\n",
    "    \n",
    "    if isinstance(response,dict):\n",
    "            \n",
    "        return 'ok'\n",
    "        \n",
    "    else:\n",
    "        return 'error'"
   ]
  },
  {
   "cell_type": "code",
   "execution_count": null,
   "id": "fd33d4c4",
   "metadata": {},
   "outputs": [],
   "source": [
    "delivery_api_status({'zip_code': '02219001'},'zip_code')"
   ]
  },
  {
   "cell_type": "code",
   "execution_count": null,
   "id": "994f3829",
   "metadata": {},
   "outputs": [],
   "source": [
    "def responses_pipeline():\n",
    "    active_chats = generate_act_convs_list()\n",
    "    subject_list = []\n",
    "#     while len(active_chats) > 0:\n",
    "    for chat in list(active_chats): #parse all the active chats\n",
    "        #parse all the active messages in a conversation\n",
    "        messages = generate_info_of_conv(chat, 'messages')\n",
    "        for message in list(messages):\n",
    "\n",
    "            #generate the subject of the problem and give it to the bot AI\n",
    "            subject = generate_info_of_conv(chat,'subject')\n",
    "            subject_list.append(subject)\n",
    "            messages.remove(message)\n",
    "            \n",
    "        \n",
    "        active_chats.remove(chat)\n",
    "    return subject_list"
   ]
  },
  {
   "cell_type": "code",
   "execution_count": null,
   "id": "2ec37996",
   "metadata": {},
   "outputs": [],
   "source": [
    "subject_list = responses_pipeline()\n",
    "for subject in subject_list:\n",
    "    print(subject)"
   ]
  },
  {
   "cell_type": "code",
   "execution_count": null,
   "id": "6bf5ff9e",
   "metadata": {},
   "outputs": [],
   "source": [
    "def delivery_response_v2(merchant_id):\n",
    "    contact_info = 'customer_service@help.br'\n",
    "    #TBD check that all api are [200] if not -> answer internar error \n",
    "    \n",
    "    #get id sale from SQL\n",
    "    id_sale = get_sale_id_SQL(merchant_id)\n",
    "    \n",
    "    #---------api_sale_status--------------------\n",
    "    sale_api_status = delivery_api_status(id_sale,'id_sale')\n",
    "    \n",
    "    if sale_api_status == 'error':\n",
    "        return f'Oh, we got an internal issue please contact: {contact_info}'\n",
    "    #--------------------------------\n",
    "    \n",
    "    \n",
    "    #get info from tracking API\n",
    "    tracking_info = generate_sale_tracking_info(id_sale)\n",
    "    #get info zip code API\n",
    "    zip_code = tracking_info.get(\"destination_zip_code\")\n",
    "    \n",
    "    # /!\\ if tracking_info.get(\"destination_zip_code\") == 'NA' -> 'we missing your delivery info' -> send delivery info to api\n",
    "     \n",
    "    #---------api_zip_code_status--------------------\n",
    "    zip_code_api_status = delivery_api_status(zip_code,'zip_code')\n",
    "    \n",
    "    if zip_code_api_status == 'error':\n",
    "        return f'Oh, we got an internal issue please contact: {contact_info}'\n",
    "    #--------------------------------\n",
    "    \n",
    "    \n",
    "    \n",
    "    \n",
    "    \n",
    "    zip_code_info = generate_sale_zip_info({'zip_code':zip_code})\n",
    "    #variables\n",
    "    delivery_forecast = tracking_info.get('delivery_forecast')\n",
    "    order_status = tracking_info.get('status')\n",
    "    neighborhood = zip_code_info.get('neighborhood')\n",
    "    city = zip_code_info.get('city')\n",
    "    street = zip_code_info.get('street')\n",
    "    state = zip_code_info.get('state')\n",
    "    complement = zip_code_info.get('complement')\n",
    "\n",
    "    if complement is not None and isinstance(complement,str) and len(complement)>0: #do something when there is a complement\n",
    "        return print(f\"Concerning your current issue\\nYour machine it's expected to be deliver the \\033[1m{delivery_forecast}\\033[0m\\nTo the following address:\\n\\033[1m{state}, {city}, {street}, {neighborhood}, {zip_code}\\033[0m, \\033[1m{complement}\\033[0m.\\nStatus: \\033[1m{order_status}\\033[0m\")\n",
    "    else:\n",
    "        return print(f\"Concerning your current issue\\nYour machine it's expected to be deliver the \\033[1m{delivery_forecast}\\033[0m\\nTo the following address:\\n\\033[1m{state}, {city}, {street}, {neighborhood}, {zip_code}\\033[0m.\\nStatus: \\033[1m{order_status}\\033[0m\")\n"
   ]
  },
  {
   "cell_type": "code",
   "execution_count": null,
   "id": "d6aebc1c",
   "metadata": {},
   "outputs": [],
   "source": [
    "def delivery_response(merchant_id):\n",
    "    contact_info = 'customer_service@help.br'\n",
    "    #TBD check that all api are [200] if not -> answer internar error \n",
    "    \n",
    "    #get id sale from SQL\n",
    "    id_sale = get_sale_id_SQL(merchant_id)\n",
    "    \n",
    "    #---------api_sale_status--------------------\n",
    "    sale_api_status = delivery_api_status(id_sale,'id_sale')\n",
    "    \n",
    "    if sale_api_status == 'error':\n",
    "        return f'Oh, we got an internal issue please contact: {contact_info}'\n",
    "    #--------------------------------\n",
    "    \n",
    "    \n",
    "    #get info from tracking API\n",
    "    tracking_info = generate_sale_tracking_info(id_sale)\n",
    "    #get info zip code API\n",
    "    zip_code = tracking_info.get(\"destination_zip_code\")\n",
    "    \n",
    "    # /!\\ if tracking_info.get(\"destination_zip_code\") == 'NA' -> 'we missing your delivery info' -> send delivery info to api\n",
    "     \n",
    "    #---------api_zip_code_status--------------------\n",
    "    zip_code_api_status = delivery_api_status(zip_code,'zip_code')\n",
    "    \n",
    "    if zip_code_api_status == 'error':\n",
    "        return f'Oh, we got an internal issue please contact: {contact_info}'\n",
    "    #--------------------------------\n",
    "    \n",
    "    \n",
    "    \n",
    "    \n",
    "    \n",
    "    zip_code_info = generate_sale_zip_info({'zip_code':zip_code})\n",
    "    #variables\n",
    "    delivery_forecast = tracking_info.get('delivery_forecast')\n",
    "    order_status = tracking_info.get('status')\n",
    "    neighborhood = zip_code_info.get('neighborhood')\n",
    "    city = zip_code_info.get('city')\n",
    "    street = zip_code_info.get('street')\n",
    "    state = zip_code_info.get('state')\n",
    "    complement = zip_code_info.get('complement')\n",
    "\n",
    "    if complement is not None and isinstance(complement,str) and len(complement)>0: #do something when there is a complement\n",
    "        return print(f\"Concerning your current issue\\nYour machine is expected to be delivered the \\033[1m{delivery_forecast}\\033[0m\\nTo the following address:\\n\\033[1m{state}, {city}, {street}, {neighborhood}, {zip_code}\\033[0m, \\033[1m{complement}\\033[0m.\\nStatus: \\033[1m{order_status}\\033[0m\")\n",
    "    else:\n",
    "        return print(f\"Concerning your current issue\\nYour machine is expected to be delivered the \\033[1m{delivery_forecast}\\033[0m\\nTo the following address:\\n\\033[1m{state}, {city}, {street}, {neighborhood}, {zip_code}\\033[0m.\\nStatus: \\033[1m{order_status}\\033[0m\")\n"
   ]
  },
  {
   "cell_type": "code",
   "execution_count": null,
   "id": "1a7e366f",
   "metadata": {},
   "outputs": [],
   "source": [
    "delivery_response('384923')"
   ]
  },
  {
   "cell_type": "markdown",
   "id": "57b3954b",
   "metadata": {},
   "source": [
    "## pipeline dict with merchant id\n"
   ]
  },
  {
   "cell_type": "code",
   "execution_count": 14,
   "id": "3bf3ce32",
   "metadata": {},
   "outputs": [],
   "source": [
    "# need the pipeline to be a dictionary with [conv_id, merchant_id and the subject]"
   ]
  },
  {
   "cell_type": "code",
   "execution_count": 50,
   "id": "ecd895bb",
   "metadata": {},
   "outputs": [],
   "source": [
    "def response_pipeline_v2():\n",
    "    active_chats = generate_act_convs_list()\n",
    "    list_of_problems = []\n",
    "\n",
    "    for conversation_id in list(active_chats):\n",
    "\n",
    "        #give info for every all messages\n",
    "        messages = generate_info_of_conv(conversation_id, 'messages') #messages of one conversation\n",
    "\n",
    "        for message in list(messages):\n",
    "\n",
    "\n",
    "            merchant_id = generate_info_of_conv(conversation_id,'merchant_id')\n",
    "            subject = generate_info_of_conv(conversation_id, 'subject')\n",
    "\n",
    "            features_pipeline = {'conversation_id': conversation_id, 'merchant_id': merchant_id, 'subject': subject}\n",
    "\n",
    "            #create a list to parse on chatbot.py\n",
    "            list_of_problems.append(features_pipeline)\n",
    "            messages.remove(message)\n",
    "\n",
    "        # {'conversation_id': chat_id, 'merchant_id':}\n",
    "    return list_of_problems"
   ]
  },
  {
   "cell_type": "code",
   "execution_count": 52,
   "id": "9ac0a38f",
   "metadata": {},
   "outputs": [],
   "source": [
    "list_of_all_active_messages = response_pipeline_v2()"
   ]
  },
  {
   "cell_type": "code",
   "execution_count": 57,
   "id": "57c7b205",
   "metadata": {},
   "outputs": [
    {
     "name": "stdout",
     "output_type": "stream",
     "text": [
      "{'conversation_id': 754893, 'merchant_id': '558392', 'subject': 'bank account receipt problem'}\n",
      "{'conversation_id': 754894, 'merchant_id': '530364', 'subject': 'connection problem'}\n",
      "{'conversation_id': 754895, 'merchant_id': '384923', 'subject': 'late delivery'}\n",
      "{'conversation_id': 754896, 'merchant_id': '395023', 'subject': 'check delivery address'}\n",
      "{'conversation_id': 754897, 'merchant_id': '849583', 'subject': 'delivery forecast'}\n"
     ]
    }
   ],
   "source": [
    "for message in list_of_all_active_messages:\n",
    "    \n",
    "    merchant_id = message.get('merchant_id')\n",
    "    subject = message.get('subject')\n",
    "    conversation_id = message..get('conversation_id')\n",
    "    print(message)"
   ]
  },
  {
   "cell_type": "code",
   "execution_count": 12,
   "id": "ad0b0805",
   "metadata": {},
   "outputs": [],
   "source": [
    "def responses_pipeline():\n",
    "    active_chats = generate_act_convs_list()\n",
    "    subject_list = []\n",
    "#     while len(active_chats) > 0:\n",
    "    for chat in list(active_chats): #parse all the active chats\n",
    "        #parse all the active messages in a conversation\n",
    "        messages = generate_info_of_conv(chat, 'messages')\n",
    "        for message in list(messages):\n",
    "\n",
    "            #generate the subject of the problem and give it to the bot AI\n",
    "            subject = generate_info_of_conv(chat,'subject')\n",
    "            subject_list.append(subject)\n",
    "            messages.remove(message)\n",
    "            \n",
    "        \n",
    "        active_chats.remove(chat)\n",
    "    return subject_list"
   ]
  },
  {
   "cell_type": "code",
   "execution_count": 13,
   "id": "9eaa4044",
   "metadata": {},
   "outputs": [
    {
     "name": "stdout",
     "output_type": "stream",
     "text": [
      "bank account receipt problem\n",
      "connection problem\n",
      "late delivery\n",
      "check delivery address\n",
      "delivery forecast\n"
     ]
    }
   ],
   "source": [
    "subject_list = responses_pipeline()\n",
    "for subject in subject_list:\n",
    "    print(subject)"
   ]
  },
  {
   "cell_type": "code",
   "execution_count": null,
   "id": "408ba751",
   "metadata": {},
   "outputs": [],
   "source": []
  }
 ],
 "metadata": {
  "kernelspec": {
   "display_name": "Python 3 (ipykernel)",
   "language": "python",
   "name": "python3"
  },
  "language_info": {
   "codemirror_mode": {
    "name": "ipython",
    "version": 3
   },
   "file_extension": ".py",
   "mimetype": "text/x-python",
   "name": "python",
   "nbconvert_exporter": "python",
   "pygments_lexer": "ipython3",
   "version": "3.8.12"
  },
  "toc": {
   "base_numbering": 1,
   "nav_menu": {},
   "number_sections": true,
   "sideBar": true,
   "skip_h1_title": false,
   "title_cell": "Table of Contents",
   "title_sidebar": "Contents",
   "toc_cell": false,
   "toc_position": {},
   "toc_section_display": true,
   "toc_window_display": false
  }
 },
 "nbformat": 4,
 "nbformat_minor": 5
}
