{
 "cells": [
  {
   "cell_type": "code",
   "execution_count": 1,
   "id": "8f69da99",
   "metadata": {},
   "outputs": [],
   "source": [
    "import sqlite3\n",
    "import requests\n",
    "import string"
   ]
  },
  {
   "cell_type": "code",
   "execution_count": 2,
   "id": "61def97b",
   "metadata": {},
   "outputs": [],
   "source": [
    "#API root and auth\n",
    "sale_id_api = 'https://logistics-api-dot-active-thunder-329100.rj.r.appspot.com'\n",
    "chip_api = 'https://telecom-api-dot-active-thunder-329100.rj.r.appspot.com'\n",
    "conversations_api = 'https://chats-api-dot-active-thunder-329100.rj.r.appspot.com'\n",
    "header = {'authorization': 'teste'} #auth code\n",
    "\n",
    "#HTTP Requests\n",
    "#   Sale API\n",
    "HTTP_request_sale_track = '/tracking'\n",
    "HTTP_request_sale_zip = '/zip_code'\n",
    "#   Chip Api\n",
    "HTTP_request_chip = '/chip_status'\n",
    "#   Conversation API\n",
    "HTTP_request_conversation = '/conversations'\n",
    "HTTP_request_conversation_info = '/conversation_info'"
   ]
  },
  {
   "cell_type": "code",
   "execution_count": 3,
   "id": "f55eb998",
   "metadata": {},
   "outputs": [],
   "source": [
    "#get for the first act conversation /!\\ need to do it for all act convers\n",
    "def get_sale_id_SQL(merchant_id): #for now initialize to first act conv\n",
    "#     conversation=generate_act_conv_info\n",
    "#     conversation = conversation[0] #TBDelt when implemented on asw_convers\n",
    "    \n",
    "#     merchant_id = conversation.get('merchant_id')\n",
    "    \n",
    "    #/!\\ SQL Hardcoded Implement Cloud SQL on GCP\n",
    "    conn = sqlite3.connect('/home/ecapi/code/e-capi/Chat_bot_Software_Engineer/Chat_bot_Software_Engineer/data/simulation-db')\n",
    "    c = conn.cursor()\n",
    "    query = \"\"\"\n",
    "        SELECT id_sale\n",
    "        FROM sales\n",
    "        WHERE sales.merchant_id = ?\n",
    "    \"\"\" \n",
    "    c.execute(query, (merchant_id,))\n",
    "    sale_id = c.fetchone()\n",
    "    return {\"id_sale\": str(sale_id[0])} #gives a tupple, with a second null arg"
   ]
  },
  {
   "cell_type": "code",
   "execution_count": 80,
   "id": "c68bcb78",
   "metadata": {},
   "outputs": [],
   "source": [
    "def generate_sale_tracking_info(params_request):\n",
    "    contact_info = 'customer_service@help.br'\n",
    "    url = sale_id_api+HTTP_request_sale_track\n",
    "\n",
    "    try:\n",
    "        response = requests.post(url, json=params_request, headers=header)\n",
    "        response.raise_for_status()\n",
    "        \n",
    "    except requests.exceptions.HTTPError as errh:\n",
    "        return f\"An Http Error occurred: Please, contact us at: {contact_info}\"\n",
    "    except requests.exceptions.ConnectionError as errc:\n",
    "        return f\"A Connection Error occurred: Please, try again later or contact us at: {contact_info}\"\n",
    "    except requests.exceptions.Timeout as errt:\n",
    "        return f\"A Timeout Error occurred: Please, try again later or contact us at: {contact_info}\"\n",
    "    except requests.exceptions.RequestException as err:\n",
    "        return f\"An Unknown Error occurred: Please, contact us at: {contact_info}\"       \n",
    "    \n",
    "    return response.json()"
   ]
  },
  {
   "cell_type": "code",
   "execution_count": 81,
   "id": "cd1ea180",
   "metadata": {},
   "outputs": [],
   "source": [
    "def generate_sale_zip_info_v2(params_request):\n",
    "    contact_info = 'customer_service@help.br'\n",
    "    url = sale_id_api+HTTP_request_sale_zip \n",
    "\n",
    "    try:\n",
    "        response = requests.post(url, json=params_request, headers=header)\n",
    "        response.raise_for_status()\n",
    "        \n",
    "    except requests.exceptions.HTTPError as errh:\n",
    "        return f\"An Http Error occurred: Please, contact us at: {contact_info}\"\n",
    "    except requests.exceptions.ConnectionError as errc:\n",
    "        return f\"A Connection Error occurred: Please, try again later or contact us at: {contact_info}\"\n",
    "    except requests.exceptions.Timeout as errt:\n",
    "        return f\"A Timeout Error occurred: Please, try again later or contact us at: {contact_info}\"\n",
    "    except requests.exceptions.RequestException as err:\n",
    "        return f\"An Unknown Error occurred: Please, contact us at: {contact_info}\"\n",
    "    \n",
    "    return response.json()"
   ]
  },
  {
   "cell_type": "code",
   "execution_count": 82,
   "id": "57f21ec5",
   "metadata": {},
   "outputs": [],
   "source": [
    "def generate_chip_info(params_request):\n",
    "    contact_info = 'customer_service@help.br'\n",
    "    url = chip_api+HTTP_request_chip\n",
    "    \n",
    "    try:\n",
    "        response = requests.post(url, json=params_request, headers=header)\n",
    "        response.raise_for_status()\n",
    "        \n",
    "    except requests.exceptions.HTTPError as errh:\n",
    "        return f\"An Http Error occurred: Please, contact us at: {contact_info}\"\n",
    "    except requests.exceptions.ConnectionError as errc:\n",
    "        return f\"A Connection Error occurred: Please, try again later or contact us at: {contact_info}\"\n",
    "    except requests.exceptions.Timeout as errt:\n",
    "        return f\"A Timeout Error occurred: Please, try again later or contact us at: {contact_info}\"\n",
    "    except requests.exceptions.RequestException as err:\n",
    "        return f\"An Unknown Error occurred: Please, contact us at: {contact_info}\"\n",
    "    \n",
    "    return response.json()"
   ]
  },
  {
   "cell_type": "code",
   "execution_count": 171,
   "id": "0562312e",
   "metadata": {},
   "outputs": [],
   "source": [
    "#all convs info list\n",
    "def generate_all_act_conv_info():\n",
    "    url = conversations_api+HTTP_request_conversation\n",
    "    response = requests.post(url, headers=header)\n",
    "    json_response = response.json() #retrieve active conversations ID\n",
    "\n",
    "    active_chat_list = [] #Create a list of active conversations info\n",
    "    for values in json_response.values():\n",
    "        for val in values:\n",
    "            params_conver_info = {'conversation_id': str(val)}\n",
    "            response = requests.post(conversations_api+HTTP_request_conversation_info, headers=header, json=params_conver_info)\n",
    "            active_chat_list.append(response.json())\n",
    "\n",
    "        return active_chat_list"
   ]
  },
  {
   "cell_type": "code",
   "execution_count": 84,
   "id": "efc98e06",
   "metadata": {},
   "outputs": [],
   "source": [
    "#active conv list\n",
    "def generate_act_convs_list():\n",
    "    url = conversations_api+HTTP_request_conversation\n",
    "    response = requests.post(url, headers=header)\n",
    "    json_response = response.json() #retrieve active conversations ID\n",
    "    \n",
    "    active_convs_list = json_response.get('conversation_ids')\n",
    "    return active_convs_list"
   ]
  },
  {
   "cell_type": "code",
   "execution_count": 37,
   "id": "1bfc8866",
   "metadata": {},
   "outputs": [],
   "source": [
    "def generate_act_conv_info(conversation_id):\n",
    "    \n",
    "    url = conversations_api+HTTP_request_conversation_info\n",
    "    params = {\"conversation_id\": conversation_id}\n",
    "    response = requests.post(url, json=params, headers=header)\n",
    "    json_response = response.json()\n",
    "    \n",
    "    return json_response"
   ]
  },
  {
   "cell_type": "code",
   "execution_count": 38,
   "id": "bac4ab91",
   "metadata": {},
   "outputs": [],
   "source": [
    "def generate_info_of_conv(conversation_id, info_needed):\n",
    "    \n",
    "    conversation_id = str(conversation_id)\n",
    "    info_needed = str(info_needed)\n",
    "    \n",
    "    url = conversations_api+HTTP_request_conversation_info\n",
    "    params = {\"conversation_id\": conversation_id}\n",
    "    response = requests.post(url, json=params, headers=header)\n",
    "    json_response = response.json()\n",
    "\n",
    "    info = json_response.get(info_needed)\n",
    "    \n",
    "    return info"
   ]
  },
  {
   "cell_type": "code",
   "execution_count": null,
   "id": "f4a45556",
   "metadata": {},
   "outputs": [],
   "source": [
    "generate"
   ]
  },
  {
   "cell_type": "code",
   "execution_count": 174,
   "id": "aea962d5",
   "metadata": {},
   "outputs": [
    {
     "data": {
      "text/plain": [
       "[{'conversation_id': '754893',\n",
       "  'messages': [{'message_id': '754893-0',\n",
       "    'text': \"hello, my money hasn't landed in my bank account yet. I want to know what happened\",\n",
       "    'created_at': '1640197668'}],\n",
       "  'merchant_id': '558392',\n",
       "  'subject': 'bank account receipt problem'},\n",
       " {'conversation_id': '754894',\n",
       "  'messages': [{'message_id': '754894-0',\n",
       "    'text': \"my chip is not connected to the internet. I've already tested my wifi and it's ok, the problem is on the chip itself\",\n",
       "    'created_at': '1640197670'}],\n",
       "  'merchant_id': '530364',\n",
       "  'subject': 'connection problem'},\n",
       " {'conversation_id': '754895',\n",
       "  'messages': [{'message_id': '754895-0',\n",
       "    'text': \"where is my credit card machine? it hasn't arrived yet, the delivery is already late\",\n",
       "    'created_at': '1640197673'}],\n",
       "  'merchant_id': '384923',\n",
       "  'subject': 'late delivery'},\n",
       " {'conversation_id': '754896',\n",
       "  'messages': [{'message_id': '754896-0',\n",
       "    'text': \"Hi! I wanted to know where my machine is. I'm going on a vacation next week and I won't be here to receive the machine, so I'd like to know what day the delivery is planned to let someone pick it up if I'm not home\",\n",
       "    'created_at': '1640197675'}],\n",
       "  'merchant_id': '395023',\n",
       "  'subject': 'check delivery address'},\n",
       " {'conversation_id': '754897',\n",
       "  'messages': [{'message_id': '754897-0',\n",
       "    'text': 'Good Morning! I bought the infinitepay machine and forgot the address that I asked to use to deliver the machine. Can you guys tell me where the machine will be delivered?',\n",
       "    'created_at': '1640197677'}],\n",
       "  'merchant_id': '849583',\n",
       "  'subject': 'delivery forecast'}]"
      ]
     },
     "execution_count": 174,
     "metadata": {},
     "output_type": "execute_result"
    }
   ],
   "source": [
    "generate_all_act_conv_info()"
   ]
  },
  {
   "cell_type": "code",
   "execution_count": 39,
   "id": "0fe22b91",
   "metadata": {},
   "outputs": [
    {
     "data": {
      "text/plain": [
       "[754893, 754894, 754895, 754896, 754897]"
      ]
     },
     "execution_count": 39,
     "metadata": {},
     "output_type": "execute_result"
    }
   ],
   "source": [
    "generate_act_convs_list()"
   ]
  },
  {
   "cell_type": "code",
   "execution_count": 172,
   "id": "ed512f53",
   "metadata": {},
   "outputs": [
    {
     "data": {
      "text/plain": [
       "{'conversation_id': '754895',\n",
       " 'messages': [{'message_id': '754895-0',\n",
       "   'text': \"where is my credit card machine? it hasn't arrived yet, the delivery is already late\",\n",
       "   'created_at': '1640197673'}],\n",
       " 'merchant_id': '384923',\n",
       " 'subject': 'late delivery'}"
      ]
     },
     "execution_count": 172,
     "metadata": {},
     "output_type": "execute_result"
    }
   ],
   "source": [
    "generate_act_conv_info('754895')"
   ]
  },
  {
   "cell_type": "code",
   "execution_count": 168,
   "id": "1fb85325",
   "metadata": {},
   "outputs": [
    {
     "data": {
      "text/plain": [
       "{'id_sale': '123457'}"
      ]
     },
     "execution_count": 168,
     "metadata": {},
     "output_type": "execute_result"
    }
   ],
   "source": [
    "get_sale_id_SQL('395023')"
   ]
  },
  {
   "cell_type": "code",
   "execution_count": 169,
   "id": "5825f260",
   "metadata": {},
   "outputs": [
    {
     "data": {
      "text/plain": [
       "{'id': '395023',\n",
       " 'status': 'NA',\n",
       " 'delivery_forecast': 'NA',\n",
       " 'destination_zip_code': 'NA'}"
      ]
     },
     "execution_count": 169,
     "metadata": {},
     "output_type": "execute_result"
    }
   ],
   "source": [
    "generate_sale_tracking_info({'id_sale': '395023'})"
   ]
  },
  {
   "cell_type": "code",
   "execution_count": 170,
   "id": "3556e1fb",
   "metadata": {},
   "outputs": [
    {
     "data": {
      "text/plain": [
       "'An Http Error occurred: Please, contact us at: customer_service@help.br'"
      ]
     },
     "execution_count": 170,
     "metadata": {},
     "output_type": "execute_result"
    }
   ],
   "source": [
    "generate_sale_zip_info_v2({'zip_code': 'NA'})"
   ]
  },
  {
   "cell_type": "code",
   "execution_count": 147,
   "id": "78bc9c6d",
   "metadata": {},
   "outputs": [],
   "source": [
    "def delivery_api_status(param, code):\n",
    "    \n",
    "    code = str(code)\n",
    "    param = str(param)\n",
    "    \n",
    "    if code == 'zip_code':\n",
    "        response = generate_sale_zip_info_v2({code: param})\n",
    "    elif code == 'id_sale':\n",
    "        response = generate_sale_tracking_info({code: param})\n",
    "    \n",
    "    if isinstance(response,dict):\n",
    "            \n",
    "        return 'ok'\n",
    "        \n",
    "    else:\n",
    "        return 'error'"
   ]
  },
  {
   "cell_type": "code",
   "execution_count": 154,
   "id": "fd33d4c4",
   "metadata": {},
   "outputs": [
    {
     "name": "stdout",
     "output_type": "stream",
     "text": [
      "An Http Error occurred: Please, contact us at: customer_service@help.br\n"
     ]
    },
    {
     "data": {
      "text/plain": [
       "'error'"
      ]
     },
     "execution_count": 154,
     "metadata": {},
     "output_type": "execute_result"
    }
   ],
   "source": [
    "delivery_api_status({'zip_code': '02219001'},'zip_code')"
   ]
  },
  {
   "cell_type": "code",
   "execution_count": 176,
   "id": "994f3829",
   "metadata": {},
   "outputs": [],
   "source": [
    "def responses_pipeline():\n",
    "    active_chats = generate_act_convs_list()\n",
    "    subject_list = []\n",
    "#     while len(active_chats) > 0:\n",
    "    for chat in list(active_chats): #parse all the active chats\n",
    "        #parse all the active messages in a conversation\n",
    "        messages = generate_info_of_conv(chat, 'messages')\n",
    "        for message in list(messages):\n",
    "\n",
    "            #generate the subject of the problem and give it to the bot AI\n",
    "            subject = generate_info_of_conv(chat,'subject')\n",
    "            subject_list.append(subject)\n",
    "            messages.remove(message)\n",
    "            \n",
    "        \n",
    "        active_chats.remove(chat)\n",
    "    return subject_list"
   ]
  },
  {
   "cell_type": "code",
   "execution_count": 177,
   "id": "2ec37996",
   "metadata": {},
   "outputs": [
    {
     "name": "stdout",
     "output_type": "stream",
     "text": [
      "bank account receipt problem\n",
      "connection problem\n",
      "late delivery\n",
      "check delivery address\n",
      "delivery forecast\n"
     ]
    }
   ],
   "source": [
    "subject_list = responses_pipeline()\n",
    "for subject in subject_list:\n",
    "    print(subject)"
   ]
  },
  {
   "cell_type": "code",
   "execution_count": null,
   "id": "6bf5ff9e",
   "metadata": {},
   "outputs": [],
   "source": [
    "def delivery_response_v2(merchant_id):\n",
    "    contact_info = 'customer_service@help.br'\n",
    "    #TBD check that all api are [200] if not -> answer internar error \n",
    "    \n",
    "    #get id sale from SQL\n",
    "    id_sale = get_sale_id_SQL(merchant_id)\n",
    "    \n",
    "    #---------api_sale_status--------------------\n",
    "    sale_api_status = delivery_api_status(id_sale,'id_sale')\n",
    "    \n",
    "    if sale_api_status == 'error':\n",
    "        return f'Oh, we got an internal issue please contact: {contact_info}'\n",
    "    #--------------------------------\n",
    "    \n",
    "    \n",
    "    #get info from tracking API\n",
    "    tracking_info = generate_sale_tracking_info(id_sale)\n",
    "    #get info zip code API\n",
    "    zip_code = tracking_info.get(\"destination_zip_code\")\n",
    "    \n",
    "    # /!\\ if tracking_info.get(\"destination_zip_code\") == 'NA' -> 'we missing your delivery info' -> send delivery info to api\n",
    "     \n",
    "    #---------api_zip_code_status--------------------\n",
    "    zip_code_api_status = delivery_api_status(zip_code,'zip_code')\n",
    "    \n",
    "    if zip_code_api_status == 'error':\n",
    "        return f'Oh, we got an internal issue please contact: {contact_info}'\n",
    "    #--------------------------------\n",
    "    \n",
    "    \n",
    "    \n",
    "    \n",
    "    \n",
    "    zip_code_info = generate_sale_zip_info({'zip_code':zip_code})\n",
    "    #variables\n",
    "    delivery_forecast = tracking_info.get('delivery_forecast')\n",
    "    order_status = tracking_info.get('status')\n",
    "    neighborhood = zip_code_info.get('neighborhood')\n",
    "    city = zip_code_info.get('city')\n",
    "    street = zip_code_info.get('street')\n",
    "    state = zip_code_info.get('state')\n",
    "    complement = zip_code_info.get('complement')\n",
    "\n",
    "    if complement is not None and isinstance(complement,str) and len(complement)>0: #do something when there is a complement\n",
    "        return print(f\"Concerning your current issue\\nYour machine it's expected to be deliver the \\033[1m{delivery_forecast}\\033[0m\\nTo the following address:\\n\\033[1m{state}, {city}, {street}, {neighborhood}, {zip_code}\\033[0m, \\033[1m{complement}\\033[0m.\\nStatus: \\033[1m{order_status}\\033[0m\")\n",
    "    else:\n",
    "        return print(f\"Concerning your current issue\\nYour machine it's expected to be deliver the \\033[1m{delivery_forecast}\\033[0m\\nTo the following address:\\n\\033[1m{state}, {city}, {street}, {neighborhood}, {zip_code}\\033[0m.\\nStatus: \\033[1m{order_status}\\033[0m\")\n"
   ]
  },
  {
   "cell_type": "code",
   "execution_count": 178,
   "id": "d6aebc1c",
   "metadata": {},
   "outputs": [],
   "source": [
    "def delivery_response(merchant_id):\n",
    "    contact_info = 'customer_service@help.br'\n",
    "    #TBD check that all api are [200] if not -> answer internar error \n",
    "    \n",
    "    #get id sale from SQL\n",
    "    id_sale = get_sale_id_SQL(merchant_id)\n",
    "    \n",
    "    #---------api_sale_status--------------------\n",
    "    sale_api_status = delivery_api_status(id_sale,'id_sale')\n",
    "    \n",
    "    if sale_api_status == 'error':\n",
    "        return f'Oh, we got an internal issue please contact: {contact_info}'\n",
    "    #--------------------------------\n",
    "    \n",
    "    \n",
    "    #get info from tracking API\n",
    "    tracking_info = generate_sale_tracking_info(id_sale)\n",
    "    #get info zip code API\n",
    "    zip_code = tracking_info.get(\"destination_zip_code\")\n",
    "    \n",
    "    # /!\\ if tracking_info.get(\"destination_zip_code\") == 'NA' -> 'we missing your delivery info' -> send delivery info to api\n",
    "     \n",
    "    #---------api_zip_code_status--------------------\n",
    "    zip_code_api_status = delivery_api_status(zip_code,'zip_code')\n",
    "    \n",
    "    if zip_code_api_status == 'error':\n",
    "        return f'Oh, we got an internal issue please contact: {contact_info}'\n",
    "    #--------------------------------\n",
    "    \n",
    "    \n",
    "    \n",
    "    \n",
    "    \n",
    "    zip_code_info = generate_sale_zip_info({'zip_code':zip_code})\n",
    "    #variables\n",
    "    delivery_forecast = tracking_info.get('delivery_forecast')\n",
    "    order_status = tracking_info.get('status')\n",
    "    neighborhood = zip_code_info.get('neighborhood')\n",
    "    city = zip_code_info.get('city')\n",
    "    street = zip_code_info.get('street')\n",
    "    state = zip_code_info.get('state')\n",
    "    complement = zip_code_info.get('complement')\n",
    "\n",
    "    if complement is not None and isinstance(complement,str) and len(complement)>0: #do something when there is a complement\n",
    "        return print(f\"Concerning your current issue\\nYour machine is expected to be delivered the \\033[1m{delivery_forecast}\\033[0m\\nTo the following address:\\n\\033[1m{state}, {city}, {street}, {neighborhood}, {zip_code}\\033[0m, \\033[1m{complement}\\033[0m.\\nStatus: \\033[1m{order_status}\\033[0m\")\n",
    "    else:\n",
    "        return print(f\"Concerning your current issue\\nYour machine is expected to be delivered the \\033[1m{delivery_forecast}\\033[0m\\nTo the following address:\\n\\033[1m{state}, {city}, {street}, {neighborhood}, {zip_code}\\033[0m.\\nStatus: \\033[1m{order_status}\\033[0m\")\n"
   ]
  },
  {
   "cell_type": "code",
   "execution_count": 179,
   "id": "1a7e366f",
   "metadata": {},
   "outputs": [
    {
     "name": "stdout",
     "output_type": "stream",
     "text": [
      "{'id': \"{'id_sale': '123456'}\", 'status': 'NA', 'delivery_forecast': 'NA', 'destination_zip_code': 'NA'}\n",
      "{'neighborhood': 'Palmares', 'ZIP_code': '31160-550', 'city': 'Belo Horizonte', 'complement': '', 'street': 'Rua Professor Patrocínio Filho', 'state': 'MG'}\n",
      "Concerning your current issue\n",
      "Your machine it's expected to be delivered the \u001b[1m01/12/2021\u001b[0m\n",
      "To the following address:\n",
      "\u001b[1mMG, Belo Horizonte, Rua Professor Patrocínio Filho, Palmares, 31160550\u001b[0m.\n",
      "Status: \u001b[1mOn delivery route\u001b[0m\n"
     ]
    }
   ],
   "source": [
    "delivery_response('384923')"
   ]
  },
  {
   "cell_type": "code",
   "execution_count": null,
   "id": "e61e2057",
   "metadata": {},
   "outputs": [],
   "source": []
  }
 ],
 "metadata": {
  "kernelspec": {
   "display_name": "Python 3 (ipykernel)",
   "language": "python",
   "name": "python3"
  },
  "language_info": {
   "codemirror_mode": {
    "name": "ipython",
    "version": 3
   },
   "file_extension": ".py",
   "mimetype": "text/x-python",
   "name": "python",
   "nbconvert_exporter": "python",
   "pygments_lexer": "ipython3",
   "version": "3.8.12"
  },
  "toc": {
   "base_numbering": 1,
   "nav_menu": {},
   "number_sections": true,
   "sideBar": true,
   "skip_h1_title": false,
   "title_cell": "Table of Contents",
   "title_sidebar": "Contents",
   "toc_cell": false,
   "toc_position": {},
   "toc_section_display": true,
   "toc_window_display": false
  }
 },
 "nbformat": 4,
 "nbformat_minor": 5
}
