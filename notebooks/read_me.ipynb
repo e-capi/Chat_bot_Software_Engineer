{
 "cells": [
  {
   "cell_type": "markdown",
   "id": "67b53c37",
   "metadata": {},
   "source": [
    "# 🤖Chat_bot_Software_Engineer\n",
    "- **Description:** Chat bot that analysis the user input and retrieve relevant information from different **API's/SQL database** to propose an  accurate solution to the user demand\n",
    "- **Data Source:** API's & SQL database"
   ]
  },
  {
   "cell_type": "markdown",
   "id": "43fab175",
   "metadata": {},
   "source": [
    "# About the project\n",
    "There are several chatbots out there. Some of them, very smart due to the usage of *RNN* and *BRNN* machine learning algorithms that enhance the learnig curve of the chat-bot thanks to their interactions with users on a daily basis, making them smarter in time. But also, we can find chat-bots less smart than that: default answers and not knowing how to interact in many cases are some of their characteristics.\n",
    "\n",
    "Here you will find a usefull chat-bot that brings the best of both worlds for those developpers that aren't experience enough yet, to deal with all of those data science libraries.\n",
    "\n",
    "A smart enough bot that will deal with your users demands on an accurate way.\n",
    "\n",
    "Last but not least this chat-bot is designed for those who have their user information stored in a SQL database and/or an API('s).\n",
    "\n",
    "\n"
   ]
  },
  {
   "cell_type": "markdown",
   "id": "0e2c103a",
   "metadata": {},
   "source": [
    "# 👨‍💻Project Description\n",
    "\n",
    "*Listed below the main components of this project and their description:*\n",
    "\n",
    "## chat_bot\n",
    "- **chat_bot.py:** *chat_bot* bring together all the components of this project to analyze the user request and propose an accurate response to the user. \n",
    "- **chat_tools.py:** Holds the functions needed to handle multiple users and demands at a time with a conversation + message pipeline approach.\n",
    "- **long_responses.py:** This section store the functions that can be use to generate a response to the user depending on the text analyzed on *chat_bot*. For this particular use case there are 3 main answer types:\n",
    "    - **Connection problem**\n",
    "    - **Delivery problem**\n",
    "    - **Receipt problem**\n",
    "    \n",
    "In addition there is a **unknown()** function which is used to ask for reformulated question when the bot didn't understand the user need.\n",
    "\n",
    "## API\n",
    "- **settings.py:** Stores the API's urls, HTTPS requests and support e-mails of your organization.\n",
    "- **api_tools.py:** Have all the functions related with your API's in order to retrieve the necessary information to fill the responses functions on <code>/chat_bot.chat_tools.</code>\n",
    "\n",
    "## SQL\n",
    "- **SQL_tools.py:** Functions to retrieve from a SQL database users information. This section is dependant from the *api_tools*.\n",
    "\n",
    "## Data\n",
    "- **simulation-db:** stores the SQL database *(alter solution is to store it in GCP)*."
   ]
  },
  {
   "cell_type": "markdown",
   "id": "93b4fba6",
   "metadata": {},
   "source": [
    "# 🚀 Startup the project\n",
    "\n",
    "\n",
    "# Install\n",
    "\n",
    "Go to `https://github.com/e-capi/Chat_bot_Software_Engineer` to see the project, manage issues,\n",
    "setup you ssh public key, ...\n",
    "\n",
    "Create a python3 virtualenv and activate it:\n",
    "\n",
    "```bash\n",
    "sudo apt-get install virtualenv python-pip python-dev\n",
    "deactivate; virtualenv -ppython3 ~/venv ; source ~/venv/bin/activate\n",
    "```\n",
    "\n",
    "Clone the project and install it:\n",
    "\n",
    "```bash\n",
    "git clone git@github.com:e-capi/Chat_bot_Software_Engineer.git\n",
    "cd Chat_bot_Software_Engineer\n",
    "pip install -r requirements.txt\n",
    "make clean install test                # install and test\n",
    "```\n",
    "Functionnal test with a script:\n",
    "\n",
    "```bash\n",
    "cd\n",
    "mkdir tmp\n",
    "cd tmp\n",
    "Chat_bot_Software_Engineer-run\n",
    "```"
   ]
  },
  {
   "cell_type": "code",
   "execution_count": null,
   "id": "926096ef",
   "metadata": {},
   "outputs": [],
   "source": []
  }
 ],
 "metadata": {
  "kernelspec": {
   "display_name": "Python 3 (ipykernel)",
   "language": "python",
   "name": "python3"
  },
  "language_info": {
   "codemirror_mode": {
    "name": "ipython",
    "version": 3
   },
   "file_extension": ".py",
   "mimetype": "text/x-python",
   "name": "python",
   "nbconvert_exporter": "python",
   "pygments_lexer": "ipython3",
   "version": "3.8.12"
  },
  "toc": {
   "base_numbering": 1,
   "nav_menu": {},
   "number_sections": true,
   "sideBar": true,
   "skip_h1_title": false,
   "title_cell": "Table of Contents",
   "title_sidebar": "Contents",
   "toc_cell": false,
   "toc_position": {},
   "toc_section_display": true,
   "toc_window_display": false
  }
 },
 "nbformat": 4,
 "nbformat_minor": 5
}
