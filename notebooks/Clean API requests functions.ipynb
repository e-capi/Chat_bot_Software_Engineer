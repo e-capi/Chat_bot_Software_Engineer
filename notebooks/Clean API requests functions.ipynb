{
 "cells": [
  {
   "cell_type": "code",
   "execution_count": 59,
   "id": "970f8247",
   "metadata": {},
   "outputs": [],
   "source": [
    "import requests\n",
    "import string"
   ]
  },
  {
   "cell_type": "markdown",
   "id": "6e75108e",
   "metadata": {},
   "source": [
    "# Settings file"
   ]
  },
  {
   "cell_type": "code",
   "execution_count": 2,
   "id": "a84d6bcb",
   "metadata": {},
   "outputs": [],
   "source": [
    "#API root and auth\n",
    "sale_id_api = 'https://logistics-api-dot-active-thunder-329100.rj.r.appspot.com'\n",
    "chip_api = 'https://telecom-api-dot-active-thunder-329100.rj.r.appspot.com'\n",
    "conversations_api = 'https://chats-api-dot-active-thunder-329100.rj.r.appspot.com'\n",
    "header = {'authorization': 'teste'} #auth code\n",
    "\n",
    "#HTTP Requests\n",
    "#   Sale API\n",
    "HTTP_request_sale_track = '/tracking'\n",
    "HTTP_request_sale_zip = '/zip_code'\n",
    "#   Chip Api\n",
    "HTTP_request_chip = '/chip_status'\n",
    "#   Conversation API\n",
    "HTTP_request_conversation = '/conversations'\n",
    "HTTP_request_conversation_info = '/conversation_info'"
   ]
  },
  {
   "cell_type": "markdown",
   "id": "13f7e168",
   "metadata": {},
   "source": [
    "# API_tools"
   ]
  },
  {
   "cell_type": "markdown",
   "id": "9f315a47",
   "metadata": {},
   "source": [
    "## Functions sales_id: Tracking & Zip_code"
   ]
  },
  {
   "cell_type": "markdown",
   "id": "73da51d8",
   "metadata": {},
   "source": [
    "### Tracking Function"
   ]
  },
  {
   "cell_type": "code",
   "execution_count": 3,
   "id": "7d14703c",
   "metadata": {},
   "outputs": [],
   "source": [
    "def generate_sale_tracking_info(params_request):\n",
    "    url = sale_id_api+HTTP_request_sale_track\n",
    "\n",
    "    response_sale_track = requests.post(url, json=params_request, headers=header)\n",
    "    return response_sale_track.json()"
   ]
  },
  {
   "cell_type": "markdown",
   "id": "69474541",
   "metadata": {},
   "source": [
    "### Zip code Function"
   ]
  },
  {
   "cell_type": "code",
   "execution_count": 4,
   "id": "49c2ac62",
   "metadata": {},
   "outputs": [],
   "source": [
    "def generate_sale_zip_info(params_request):\n",
    "    url = sale_id_api+HTTP_request_sale_zip\n",
    "\n",
    "    response_sale_zip = requests.post(url, json=params_request, headers=header)\n",
    "    return response_sale_zip.json()"
   ]
  },
  {
   "cell_type": "markdown",
   "id": "ce64bab4",
   "metadata": {},
   "source": [
    "## Function Chip Status"
   ]
  },
  {
   "cell_type": "code",
   "execution_count": 5,
   "id": "b61b891b",
   "metadata": {},
   "outputs": [],
   "source": [
    "def generate_chip_info(params_request):\n",
    "    url = chip_api+HTTP_request_chip\n",
    "\n",
    "    response_chip = requests.post(url, json=params_request, headers=header)\n",
    "    return response_chip.json()"
   ]
  },
  {
   "cell_type": "markdown",
   "id": "34794610",
   "metadata": {},
   "source": [
    "## Function Active Conversations info"
   ]
  },
  {
   "cell_type": "code",
   "execution_count": 6,
   "id": "d56bf1fc",
   "metadata": {},
   "outputs": [],
   "source": [
    "def generate_act_conv_info():\n",
    "    response_conversation = requests.post(conversations_api+HTTP_request_conversation, headers=header)\n",
    "    json_response_conversation = response_conversation.json() #retrieve active conversations ID\n",
    "\n",
    "    active_chat_list = [] #Create a list of active conversations info\n",
    "    for values in json_response_conversation.values():\n",
    "        for val in values:\n",
    "            params_conver_info = {'conversation_id': str(val)}\n",
    "            response_conversation = requests.post(conversations_api+HTTP_request_conversation_info, headers=header, json=params_conver_info)\n",
    "            active_chat_list.append(response_conversation.json())\n",
    "\n",
    "        return active_chat_list"
   ]
  },
  {
   "cell_type": "markdown",
   "id": "2f2e6aeb",
   "metadata": {},
   "source": [
    "# generate Functions info"
   ]
  },
  {
   "cell_type": "code",
   "execution_count": 93,
   "id": "e0347b5e",
   "metadata": {},
   "outputs": [
    {
     "data": {
      "text/plain": [
       "{'conversation_id': '754895',\n",
       " 'messages': [{'message_id': '754895-0',\n",
       "   'text': \"where is my credit card machine? it hasn't arrived yet, the delivery is already late\",\n",
       "   'created_at': '1640197673'}],\n",
       " 'merchant_id': '384923',\n",
       " 'subject': 'late delivery'}"
      ]
     },
     "execution_count": 93,
     "metadata": {},
     "output_type": "execute_result"
    }
   ],
   "source": [
    "generate_act_conv_info()[2]"
   ]
  },
  {
   "cell_type": "markdown",
   "id": "5cb1c261",
   "metadata": {},
   "source": [
    "# chat_bot tools"
   ]
  },
  {
   "cell_type": "markdown",
   "id": "8a8095b3",
   "metadata": {},
   "source": [
    "## Greetings"
   ]
  },
  {
   "cell_type": "code",
   "execution_count": 21,
   "id": "19f158ed",
   "metadata": {},
   "outputs": [],
   "source": [
    "#help with the first active conversation -> need to parse all the active chats and resolve one by one\n",
    "def greetings():\n",
    "    active_chats_list = generate_act_conv_info()\n",
    "    first_active_chat = active_chats_list[0]\n",
    "    print(f\"Greetings! I'm e-capi chat bot.\\nI'm here to help you with your \\033[1m{first_active_chat.get('subject')}\\033[0m\")\n"
   ]
  },
  {
   "cell_type": "code",
   "execution_count": 63,
   "id": "d154e7e0",
   "metadata": {},
   "outputs": [
    {
     "name": "stdout",
     "output_type": "stream",
     "text": [
      "Greetings! I'm e-capi chat bot\n",
      "I'm here to help you with your \u001b[1mbank account receipt problem\u001b[0m\n"
     ]
    }
   ],
   "source": [
    "greetings()"
   ]
  },
  {
   "cell_type": "code",
   "execution_count": null,
   "id": "5393133c",
   "metadata": {},
   "outputs": [],
   "source": [
    "#Creation of dict with all the client info\n",
    "def act_conver_info_reco():\n",
    "    "
   ]
  },
  {
   "cell_type": "markdown",
   "id": "c3c9e808",
   "metadata": {},
   "source": [
    "## Analyzer"
   ]
  },
  {
   "cell_type": "code",
   "execution_count": 61,
   "id": "c1514f2c",
   "metadata": {
    "collapsed": true
   },
   "outputs": [
    {
     "data": {
      "text/plain": [
       "['hello',\n",
       " 'my',\n",
       " 'money',\n",
       " 'hasnt',\n",
       " 'landed',\n",
       " 'in',\n",
       " 'my',\n",
       " 'bank',\n",
       " 'account',\n",
       " 'yet',\n",
       " 'I',\n",
       " 'want',\n",
       " 'to',\n",
       " 'know',\n",
       " 'what',\n",
       " 'happened']"
      ]
     },
     "execution_count": 61,
     "metadata": {},
     "output_type": "execute_result"
    }
   ],
   "source": [
    "_active_chats_list = generate_act_conv_info()\n",
    "_first_active_chat = _active_chats_list[0]\n",
    "\n",
    "_messages_to_analyze = _first_active_chat.get('messages')\n",
    "_messages_to_analyze = _messages_to_analyze[0].get('text')\n",
    "clean_msg =_messages_to_analyze.translate(str.maketrans(\"\",\"\", string.punctuation))\n",
    "clean_msg.split()"
   ]
  },
  {
   "cell_type": "code",
   "execution_count": 62,
   "id": "394f8b8e",
   "metadata": {},
   "outputs": [
    {
     "name": "stdout",
     "output_type": "stream",
     "text": [
      "['hello', 'my', 'money', 'hasnt', 'landed', 'in', 'my', 'bank', 'account', 'yet', 'I', 'want', 'to', 'know', 'what', 'happened']\n"
     ]
    }
   ],
   "source": [
    "# #test for funct\n",
    "\n",
    "# _active_chats_list = generate_act_conv_info()\n",
    "# _first_active_chat = _active_chats_list[0]\n",
    "\n",
    "# _messages_to_analyze = _first_active_chat.get('messages')\n",
    "\n",
    "# messages_pipeline = len(_messages_to_analyze) #No. of messages to analyze in one conversation\n",
    "\n",
    "# while messages_pipeline!= 0:\n",
    "    \n",
    "#     for message in _messages_to_analyze: #Analyze msg by msg and propose a solution\n",
    "#         text_to_analyze = message.get('text')\n",
    "#         analyzer = []\n",
    "        \n",
    "#         #clean the text\n",
    "#         text_to_analyze = text_to_analyze.translate(str.maketrans(\"\",\"\", string.punctuation))\n",
    "#         list_words_to_analyze = text_to_analyze.split() #Create a list of words to make a 'dumb' analyzer\n",
    "        \n",
    "# #         for word in text_to_analyze:  \n",
    "# #             analyzer.append(word) \n",
    "# #         print(analyzer)\n",
    "#     print(list_words_to_analyze)\n",
    "#     messages_pipeline = messages_pipeline - 1 # /!\\ put and if ans ask if the message was resolve\n",
    "    "
   ]
  },
  {
   "cell_type": "code",
   "execution_count": 68,
   "id": "fa0932ec",
   "metadata": {},
   "outputs": [],
   "source": [
    "#dumb text analyzer\n",
    "# \n",
    "def text_analyzer():\n",
    "    #analyze first chat /!\\ TB automatize\n",
    "    active_chats_list = generate_act_conv_info()\n",
    "    first_active_chat = active_chats_list[0]\n",
    "    \n",
    "    messages_to_analyze = first_active_chat.get('messages')\n",
    "\n",
    "    messages_pipeline = len(messages_to_analyze)\n",
    "\n",
    "    while messages_pipeline != 0:\n",
    "       \n",
    "        for message in _messages_to_analyze: #Analyze msg by msg and propose a solution\n",
    "            text_to_analyze = message.get('text')\n",
    "            analyzer = []\n",
    "\n",
    "            #clean the text\n",
    "            text_to_analyze = text_to_analyze.translate(str.maketrans(\"\",\"\", string.punctuation))\n",
    "            list_words_to_analyze = text_to_analyze.split() #Create a list of words to make a 'dumb' analyzer\n",
    "\n",
    "            messages_pipeline = messages_pipeline - 1 #Resolve problem and go to next message\n",
    "        return list_words_to_analyze"
   ]
  },
  {
   "cell_type": "code",
   "execution_count": 69,
   "id": "0453a4c8",
   "metadata": {
    "collapsed": true
   },
   "outputs": [
    {
     "data": {
      "text/plain": [
       "['hello',\n",
       " 'my',\n",
       " 'money',\n",
       " 'hasnt',\n",
       " 'landed',\n",
       " 'in',\n",
       " 'my',\n",
       " 'bank',\n",
       " 'account',\n",
       " 'yet',\n",
       " 'I',\n",
       " 'want',\n",
       " 'to',\n",
       " 'know',\n",
       " 'what',\n",
       " 'happened']"
      ]
     },
     "execution_count": 69,
     "metadata": {},
     "output_type": "execute_result"
    }
   ],
   "source": [
    "text_analyzer()"
   ]
  },
  {
   "cell_type": "markdown",
   "id": "e69c5563",
   "metadata": {},
   "source": [
    "### subject analyzer"
   ]
  },
  {
   "cell_type": "code",
   "execution_count": 106,
   "id": "9c82f9b5",
   "metadata": {},
   "outputs": [],
   "source": [
    "def subject_analyzer():\n",
    "    #analyze first chat /!\\ TB automatize\n",
    "    active_chats_list = generate_act_conv_info()\n",
    "    first_active_chat = active_chats_list[0]\n",
    "\n",
    "    messages_to_analyze = first_active_chat.get('messages')\n",
    "    subject_to_analyze = first_active_chat.get('subject')\n",
    "\n",
    "    messages_pipeline = len(messages_to_analyze)\n",
    "\n",
    "    while messages_pipeline != 0:\n",
    "       \n",
    "        subject_to_analyze = subject_to_analyze.translate(str.maketrans(\"\",\"\", string.punctuation))\n",
    "        list_words_to_analyze = subject_to_analyze.split() #Create a list of words to make a 'dumb' analyzer\n",
    "\n",
    "\n",
    "        messages_pipeline = messages_pipeline - 1 #Resolve problem and go to next message\n",
    "        return list_words_to_analyze"
   ]
  },
  {
   "cell_type": "code",
   "execution_count": 107,
   "id": "535271ca",
   "metadata": {},
   "outputs": [
    {
     "data": {
      "text/plain": [
       "['bank', 'account', 'receipt', 'problem']"
      ]
     },
     "execution_count": 107,
     "metadata": {},
     "output_type": "execute_result"
    }
   ],
   "source": [
    "subject_analyzer()"
   ]
  },
  {
   "cell_type": "markdown",
   "id": "b45facae",
   "metadata": {},
   "source": [
    "## Chatbot metadata recopilator"
   ]
  },
  {
   "cell_type": "code",
   "execution_count": 90,
   "id": "f857dc59",
   "metadata": {},
   "outputs": [],
   "source": [
    "def get_metadata():\n",
    "    print(\"Helping you is my duty, so helpful I shall be!\\nTherefore I'm going to ask you some questions to achieve this...\\nDo you have a \\033[1msale_id\\033[0m linked to this issue? (\\033[1mY\\033[0m/\\033[1mn\\033[0m)\")\n",
    "    yn_sale_id = input().lower()\n",
    "    if yn_sale_id in ['y', 'ye', 'yes', 'yea', 'yeah', 'yup']:\n",
    "        print(\"Great!\\nPlease provide me your \\033[1msale_id\\033[0m:\")\n",
    "        sale_id = input()# /!\\ checkar que sea un id valido con if\n",
    "    else:\n",
    "        print('sadge')"
   ]
  },
  {
   "cell_type": "code",
   "execution_count": 94,
   "id": "8f437843",
   "metadata": {
    "collapsed": true
   },
   "outputs": [
    {
     "name": "stdout",
     "output_type": "stream",
     "text": [
      "Helping you is my duty, so helpfull I shall be!\n",
      "Therefore I'm going to ask you some questions to achieve this...\n",
      "Do you have a \u001b[1msale_id\u001b[0m linked to this issue? (\u001b[1mY\u001b[0m/\u001b[1mn\u001b[0m)\n",
      "Y\n",
      "Great !\n",
      "Please provide me your \u001b[1msale_id\u001b[0m:\n",
      "123\n"
     ]
    }
   ],
   "source": [
    "get_metadata()"
   ]
  },
  {
   "cell_type": "code",
   "execution_count": null,
   "id": "2a77afa8",
   "metadata": {},
   "outputs": [],
   "source": []
  }
 ],
 "metadata": {
  "kernelspec": {
   "display_name": "Python 3 (ipykernel)",
   "language": "python",
   "name": "python3"
  },
  "language_info": {
   "codemirror_mode": {
    "name": "ipython",
    "version": 3
   },
   "file_extension": ".py",
   "mimetype": "text/x-python",
   "name": "python",
   "nbconvert_exporter": "python",
   "pygments_lexer": "ipython3",
   "version": "3.8.12"
  },
  "toc": {
   "base_numbering": 1,
   "nav_menu": {},
   "number_sections": true,
   "sideBar": true,
   "skip_h1_title": false,
   "title_cell": "Table of Contents",
   "title_sidebar": "Contents",
   "toc_cell": false,
   "toc_position": {},
   "toc_section_display": true,
   "toc_window_display": false
  }
 },
 "nbformat": 4,
 "nbformat_minor": 5
}
