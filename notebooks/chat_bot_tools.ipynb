{
 "cells": [
  {
   "cell_type": "markdown",
   "id": "b10d018c",
   "metadata": {},
   "source": [
    "# Chatbot tools"
   ]
  },
  {
   "cell_type": "markdown",
   "id": "8425e9fe",
   "metadata": {},
   "source": [
    "## Greetings function"
   ]
  },
  {
   "cell_type": "code",
   "execution_count": null,
   "id": "fc05ddc9",
   "metadata": {},
   "outputs": [],
   "source": [
    "#help with the first active conversation -> need to parse all the active chats and resolve one by one\n",
    "def greetings():\n",
    "    active_chats_list = generate_act_conv_info()\n",
    "    first_active_chat = active_chats_list[0]\n",
    "    print(f\"Greetings! I'm e-capi chat bot.\\nI'm here to help you with your \\033[1m{first_active_chat.get('subject')}\\033[0m\")\n"
   ]
  },
  {
   "cell_type": "markdown",
   "id": "49e6d4a7",
   "metadata": {},
   "source": [
    "## AI functions"
   ]
  },
  {
   "cell_type": "markdown",
   "id": "28e8f21f",
   "metadata": {},
   "source": [
    "### Analyzer"
   ]
  },
  {
   "cell_type": "code",
   "execution_count": null,
   "id": "8fee281c",
   "metadata": {},
   "outputs": [],
   "source": [
    "#dumb text analyzer\n",
    "# /!\\ needs to compare the return [of words] with something to know where to look\n",
    "def text_analyzer():\n",
    "    #analyze first chat /!\\ TB automatize\n",
    "    active_chats_list = generate_act_conv_info()\n",
    "    first_active_chat = active_chats_list[0]\n",
    "    \n",
    "    messages_to_analyze = first_active_chat.get('messages')\n",
    "\n",
    "    messages_pipeline = len(messages_to_analyze)\n",
    "\n",
    "    while messages_pipeline != 0:\n",
    "       \n",
    "        for message in _messages_to_analyze: #Analyze msg by msg and propose a solution\n",
    "            text_to_analyze = message.get('text')\n",
    "            analyzer = [] # not use?\n",
    "\n",
    "            #clean the text\n",
    "            text_to_analyze = text_to_analyze.translate(str.maketrans(\"\",\"\", string.punctuation))\n",
    "            list_words_to_analyze = text_to_analyze.split() #Create a list of words to make a 'dumb' analyzer\n",
    "\n",
    "            messages_pipeline = messages_pipeline - 1 #Resolve problem and go to next message\n",
    "        return list_words_to_analyze"
   ]
  },
  {
   "cell_type": "markdown",
   "id": "91da46ed",
   "metadata": {},
   "source": [
    "### Subject Analyzer"
   ]
  },
  {
   "cell_type": "code",
   "execution_count": 1,
   "id": "b7b91dac",
   "metadata": {},
   "outputs": [],
   "source": [
    "def subject_analyzer():\n",
    "    #analyze first chat /!\\ TB automatize\n",
    "    active_chats_list = generate_act_conv_info()\n",
    "    first_active_chat = active_chats_list[0]\n",
    "\n",
    "    messages_to_analyze = first_active_chat.get('messages')\n",
    "    subject_to_analyze = first_active_chat.get('subject')\n",
    "\n",
    "    messages_pipeline = len(messages_to_analyze)\n",
    "\n",
    "    while messages_pipeline != 0:\n",
    "       \n",
    "        subject_to_analyze = subject_to_analyze.translate(str.maketrans(\"\",\"\", string.punctuation))\n",
    "        list_words_to_analyze = subject_to_analyze.split() #Create a list of words to make a 'dumb' analyzer\n",
    "\n",
    "\n",
    "        messages_pipeline = messages_pipeline - 1 #Resolve problem and go to next message\n",
    "        return list_words_to_analyze"
   ]
  },
  {
   "cell_type": "markdown",
   "id": "9f90f0bd",
   "metadata": {},
   "source": [
    "### metadata recopilator"
   ]
  },
  {
   "cell_type": "code",
   "execution_count": null,
   "id": "69cf7536",
   "metadata": {},
   "outputs": [],
   "source": []
  }
 ],
 "metadata": {
  "kernelspec": {
   "display_name": "Python 3 (ipykernel)",
   "language": "python",
   "name": "python3"
  },
  "language_info": {
   "codemirror_mode": {
    "name": "ipython",
    "version": 3
   },
   "file_extension": ".py",
   "mimetype": "text/x-python",
   "name": "python",
   "nbconvert_exporter": "python",
   "pygments_lexer": "ipython3",
   "version": "3.8.12"
  },
  "toc": {
   "base_numbering": 1,
   "nav_menu": {},
   "number_sections": true,
   "sideBar": true,
   "skip_h1_title": false,
   "title_cell": "Table of Contents",
   "title_sidebar": "Contents",
   "toc_cell": false,
   "toc_position": {},
   "toc_section_display": true,
   "toc_window_display": false
  }
 },
 "nbformat": 4,
 "nbformat_minor": 5
}
