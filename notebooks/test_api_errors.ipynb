{
 "cells": [
  {
   "cell_type": "code",
   "execution_count": 1,
   "id": "0a1b3c16",
   "metadata": {},
   "outputs": [],
   "source": [
    "import sqlite3\n",
    "import requests\n",
    "import string"
   ]
  },
  {
   "cell_type": "code",
   "execution_count": 2,
   "id": "a9522a9d",
   "metadata": {},
   "outputs": [],
   "source": [
    "#API root and auth\n",
    "sale_id_api = 'https://logistics-api-dot-active-thunder-329100.rj.r.appspot.com'\n",
    "chip_api = 'https://telecom-api-dot-active-thunder-329100.rj.r.appspot.com'\n",
    "conversations_api = 'https://chats-api-dot-active-thunder-329100.rj.r.appspot.com'\n",
    "header = {'authorization': 'teste'} #auth code\n",
    "\n",
    "#HTTP Requests\n",
    "#   Sale API\n",
    "HTTP_request_sale_track = '/tracking'\n",
    "HTTP_request_sale_zip = '/zip_code'\n",
    "#   Chip Api\n",
    "HTTP_request_chip = '/chip_status'\n",
    "#   Conversation API\n",
    "HTTP_request_conversation = '/conversations'\n",
    "HTTP_request_conversation_info = '/conversation_info'"
   ]
  },
  {
   "cell_type": "markdown",
   "id": "bceeac5d",
   "metadata": {},
   "source": [
    "# SQL tools"
   ]
  },
  {
   "cell_type": "code",
   "execution_count": 3,
   "id": "e4c6f754",
   "metadata": {},
   "outputs": [],
   "source": [
    "#get for the first act conversation /!\\ need to do it for all act convers\n",
    "def get_sale_id_SQL(merchant_id): #for now initialize to first act conv\n",
    "#     conversation=generate_act_conv_info\n",
    "#     conversation = conversation[0] #TBDelt when implemented on asw_convers\n",
    "    \n",
    "#     merchant_id = conversation.get('merchant_id')\n",
    "    \n",
    "    #/!\\ SQL Hardcoded Implement Cloud SQL on GCP\n",
    "    conn = sqlite3.connect('/home/ecapi/code/e-capi/Chat_bot_Software_Engineer/Chat_bot_Software_Engineer/data/simulation-db')\n",
    "    c = conn.cursor()\n",
    "    query = \"\"\"\n",
    "        SELECT id_sale\n",
    "        FROM sales\n",
    "        WHERE sales.merchant_id = ?\n",
    "    \"\"\" \n",
    "    c.execute(query, (merchant_id,))\n",
    "    sale_id = c.fetchone()\n",
    "    return {\"id_sale\": str(sale_id[0])} #gives a tupple, with a second null arg"
   ]
  },
  {
   "cell_type": "code",
   "execution_count": 4,
   "id": "765fb1d8",
   "metadata": {},
   "outputs": [],
   "source": [
    "#get for the first act conversation /!\\ need to do it for all act convers\n",
    "def get_receipt_info_SQL(merchant_id): #for now initialize to first act conv\n",
    "#     conversation=generate_act_conv_info\n",
    "#     conversation = conversation[0] #TBDelt when implemented on asw_convers\n",
    "    \n",
    "#     merchant_id = conversation.get('merchant_id')\n",
    "    \n",
    "    #/!\\ SQL Hardcoded Implement Cloud SQL on GCP\n",
    "    conn = sqlite3.connect('/home/ecapi/code/e-capi/Chat_bot_Software_Engineer/Chat_bot_Software_Engineer/data/simulation-db')\n",
    "    c = conn.cursor()\n",
    "    query = \"\"\"\n",
    "        SELECT status, description, value\n",
    "        FROM receipt\n",
    "        WHERE receipt.merchant_id = ?\n",
    "    \"\"\" \n",
    "    c.execute(query, (merchant_id,))\n",
    "    receipt_info = c.fetchone()\n",
    "    \n",
    "    #variables\n",
    "    status = receipt_info[0]\n",
    "    description = receipt_info[1]\n",
    "    value = receipt_info[2]\n",
    "    \n",
    "    answ_dict = {'status':status, 'description': description, 'value': value }\n",
    "    return answ_dict"
   ]
  },
  {
   "cell_type": "code",
   "execution_count": 5,
   "id": "f1b43aad",
   "metadata": {},
   "outputs": [],
   "source": [
    "#get for the first act conversation /!\\ need to do it for all act convers\n",
    "def get_chip_id_SQL(merchant_id): #for now initialize to first act conv\n",
    "#     conversation=generate_act_conv_info\n",
    "#     conversation = conversation[0] #TBDelt when implemented on asw_convers\n",
    "    \n",
    "#     merchant_id = conversation.get('merchant_id')\n",
    "    \n",
    "    #/!\\ SQL Hardcoded Implement Cloud SQL on GCP\n",
    "    conn = sqlite3.connect('/home/ecapi/code/e-capi/Chat_bot_Software_Engineer/Chat_bot_Software_Engineer/data/simulation-db')\n",
    "    c = conn.cursor()\n",
    "    query = \"\"\"\n",
    "        SELECT chip_id\n",
    "        FROM sales\n",
    "        WHERE sales.merchant_id = ?\n",
    "    \"\"\" \n",
    "    c.execute(query, (merchant_id,))\n",
    "    chip_id = c.fetchone()\n",
    "    return {\"chip_id\": str(chip_id[0])} #gives a tupple, with a second null arg"
   ]
  },
  {
   "cell_type": "code",
   "execution_count": 6,
   "id": "9849dcad",
   "metadata": {},
   "outputs": [],
   "source": [
    "#get for the first act conversation /!\\ need to do it for all act convers\n",
    "def get_transactions_info_SQL(merchant_id): #for now initialize to first act conv\n",
    "#     conversation=generate_act_conv_info\n",
    "#     conversation = conversation[0] #TBDelt when implemented on asw_convers\n",
    "    \n",
    "#     merchant_id = conversation.get('merchant_id')\n",
    "    \n",
    "    #/!\\ SQL Hardcoded Implement Cloud SQL on GCP\n",
    "    conn = sqlite3.connect('/home/ecapi/code/e-capi/Chat_bot_Software_Engineer/Chat_bot_Software_Engineer/data/simulation-db')\n",
    "    c = conn.cursor()\n",
    "    query = \"\"\"\n",
    "        SELECT transaction_id, created_at, value \n",
    "        FROM transactions\n",
    "        WHERE transactions.merchant_id = ?\n",
    "    \"\"\" \n",
    "    c.execute(query, (merchant_id,))\n",
    "    transactions_info = c.fetchall()\n",
    "    \n",
    "    #variables\n",
    "    \n",
    "#     answ_dict = {'status':status, 'description': description, 'value': value }\n",
    "    return transactions_info #returns a list of transaction_id, created_at, value"
   ]
  },
  {
   "cell_type": "code",
   "execution_count": 7,
   "id": "8d5f11b7",
   "metadata": {},
   "outputs": [],
   "source": [
    "#get for the first act conversation /!\\ need to do it for all act convers\n",
    "def get_transactions_aggregate_SQL(merchant_id): #for now initialize to first act conv\n",
    "#     conversation=generate_act_conv_info\n",
    "#     conversation = conversation[0] #TBDelt when implemented on asw_convers\n",
    "    \n",
    "#     merchant_id = conversation.get('merchant_id')\n",
    "    \n",
    "    #/!\\ SQL Hardcoded Implement Cloud SQL on GCP\n",
    "    conn = sqlite3.connect('/home/ecapi/code/e-capi/Chat_bot_Software_Engineer/Chat_bot_Software_Engineer/data/simulation-db')\n",
    "    c = conn.cursor()\n",
    "    query = \"\"\"\n",
    "        SELECT COUNT(transaction_id) as total_transactions, SUM(value) as total_value\n",
    "        FROM transactions\n",
    "        WHERE transactions.merchant_id = ?\n",
    "    \"\"\" \n",
    "    c.execute(query, (merchant_id,))\n",
    "    transactions_aggregation = c.fetchone()\n",
    "    \n",
    "    #variables\n",
    "    transactions_amount = transactions_aggregation[0]\n",
    "    transactions_value = transactions_aggregation[1]\n",
    "    \n",
    "    \n",
    "    answ_dict = {'transactions_amount':transactions_amount, 'transactions_value': transactions_value }\n",
    "    return answ_dict"
   ]
  },
  {
   "cell_type": "markdown",
   "id": "4a3d8bc9",
   "metadata": {},
   "source": [
    "# Bot tools"
   ]
  },
  {
   "cell_type": "code",
   "execution_count": 8,
   "id": "b60e7878",
   "metadata": {},
   "outputs": [],
   "source": [
    "def generate_sale_tracking_info(params_request):\n",
    "    url = sale_id_api+HTTP_request_sale_track\n",
    "\n",
    "    response_sale_track = requests.post(url, json=params_request, headers=header)\n",
    "    return response_sale_track.json()"
   ]
  },
  {
   "cell_type": "code",
   "execution_count": 9,
   "id": "19e05f54",
   "metadata": {},
   "outputs": [],
   "source": [
    "def generate_sale_zip_info(params_request):\n",
    "    url = sale_id_api+HTTP_request_sale_zip \n",
    "\n",
    "    response_sale_zip = requests.post(url, json=params_request, headers=header)\n",
    "    return response_sale_zip.json()\n",
    "# def generate_sale_zip_info(params_request):\n",
    "#     url = sale_id_api+HTTP_request_sale_zip\n",
    "\n",
    "#     response_sale_zip = requests.post(url, json={'zip_code':params_request}, headers=header)\n",
    "#     return response_sale_zip.json()"
   ]
  },
  {
   "cell_type": "code",
   "execution_count": 10,
   "id": "656e6b48",
   "metadata": {},
   "outputs": [],
   "source": [
    "def generate_chip_info(params_request):\n",
    "    url = chip_api+HTTP_request_chip\n",
    "\n",
    "    response_chip = requests.post(url, json=params_request, headers=header)\n",
    "    return response_chip.json()"
   ]
  },
  {
   "cell_type": "code",
   "execution_count": 11,
   "id": "1b42a284",
   "metadata": {},
   "outputs": [],
   "source": [
    "#all convs info list\n",
    "def generate_all_act_conv_info():\n",
    "    url = conversations_api+HTTP_request_conversation\n",
    "    response_conversation = requests.post(url, headers=header)\n",
    "    json_response_conversation = response_conversation.json() #retrieve active conversations ID\n",
    "\n",
    "    active_chat_list = [] #Create a list of active conversations info\n",
    "    for values in json_response_conversation.values():\n",
    "        for val in values:\n",
    "            params_conver_info = {'conversation_id': str(val)}\n",
    "            response_conversation = requests.post(conversations_api+HTTP_request_conversation_info, headers=header, json=params_conver_info)\n",
    "            active_chat_list.append(response_conversation.json())\n",
    "\n",
    "        return active_chat_list"
   ]
  },
  {
   "cell_type": "code",
   "execution_count": 12,
   "id": "4a0fdb38",
   "metadata": {},
   "outputs": [
    {
     "data": {
      "text/plain": [
       "[{'conversation_id': '754893',\n",
       "  'messages': [{'message_id': '754893-0',\n",
       "    'text': \"hello, my money hasn't landed in my bank account yet. I want to know what happened\",\n",
       "    'created_at': '1640197668'}],\n",
       "  'merchant_id': '558392',\n",
       "  'subject': 'bank account receipt problem'},\n",
       " {'conversation_id': '754894',\n",
       "  'messages': [{'message_id': '754894-0',\n",
       "    'text': \"my chip is not connected to the internet. I've already tested my wifi and it's ok, the problem is on the chip itself\",\n",
       "    'created_at': '1640197670'}],\n",
       "  'merchant_id': '530364',\n",
       "  'subject': 'connection problem'},\n",
       " {'conversation_id': '754895',\n",
       "  'messages': [{'message_id': '754895-0',\n",
       "    'text': \"where is my credit card machine? it hasn't arrived yet, the delivery is already late\",\n",
       "    'created_at': '1640197673'}],\n",
       "  'merchant_id': '384923',\n",
       "  'subject': 'late delivery'},\n",
       " {'conversation_id': '754896',\n",
       "  'messages': [{'message_id': '754896-0',\n",
       "    'text': \"Hi! I wanted to know where my machine is. I'm going on a vacation next week and I won't be here to receive the machine, so I'd like to know what day the delivery is planned to let someone pick it up if I'm not home\",\n",
       "    'created_at': '1640197675'}],\n",
       "  'merchant_id': '395023',\n",
       "  'subject': 'check delivery address'},\n",
       " {'conversation_id': '754897',\n",
       "  'messages': [{'message_id': '754897-0',\n",
       "    'text': 'Good Morning! I bought the infinitepay machine and forgot the address that I asked to use to deliver the machine. Can you guys tell me where the machine will be delivered?',\n",
       "    'created_at': '1640197677'}],\n",
       "  'merchant_id': '849583',\n",
       "  'subject': 'delivery forecast'}]"
      ]
     },
     "execution_count": 12,
     "metadata": {},
     "output_type": "execute_result"
    }
   ],
   "source": [
    "generate_all_act_conv_info() "
   ]
  },
  {
   "cell_type": "code",
   "execution_count": 13,
   "id": "0d666a08",
   "metadata": {},
   "outputs": [],
   "source": [
    "#active conv list\n",
    "def generate_act_convs_list():\n",
    "    url = conversations_api+HTTP_request_conversation\n",
    "    response_conversation = requests.post(url, headers=header)\n",
    "    json_response_conversation = response_conversation.json() #retrieve active conversations ID\n",
    "    \n",
    "    active_convs_list = json_response_conversation.get('conversation_ids')\n",
    "    return active_convs_list"
   ]
  },
  {
   "cell_type": "code",
   "execution_count": 14,
   "id": "70516f06",
   "metadata": {},
   "outputs": [
    {
     "data": {
      "text/plain": [
       "[754893, 754894, 754895, 754896, 754897]"
      ]
     },
     "execution_count": 14,
     "metadata": {},
     "output_type": "execute_result"
    }
   ],
   "source": [
    "generate_act_convs_list()"
   ]
  },
  {
   "cell_type": "code",
   "execution_count": 15,
   "id": "af1ba8ef",
   "metadata": {},
   "outputs": [],
   "source": [
    "def generate_act_conv_info(conversation_id):\n",
    "    \n",
    "    url = conversations_api+HTTP_request_conversation_info\n",
    "    params = {\"conversation_id\": conversation_id}\n",
    "    response_conversation = requests.post(url, json=params, headers=header)\n",
    "    conversation_info = response_conversation.json()\n",
    "    \n",
    "    return conversation_info"
   ]
  },
  {
   "cell_type": "code",
   "execution_count": 16,
   "id": "81054e88",
   "metadata": {},
   "outputs": [
    {
     "data": {
      "text/plain": [
       "{'conversation_id': '754896',\n",
       " 'messages': [{'message_id': '754896-0',\n",
       "   'text': \"Hi! I wanted to know where my machine is. I'm going on a vacation next week and I won't be here to receive the machine, so I'd like to know what day the delivery is planned to let someone pick it up if I'm not home\",\n",
       "   'created_at': '1640197675'}],\n",
       " 'merchant_id': '395023',\n",
       " 'subject': 'check delivery address'}"
      ]
     },
     "execution_count": 16,
     "metadata": {},
     "output_type": "execute_result"
    }
   ],
   "source": [
    "generate_act_conv_info('754896')"
   ]
  },
  {
   "cell_type": "code",
   "execution_count": 17,
   "id": "ce18b7fa",
   "metadata": {},
   "outputs": [],
   "source": [
    "def generate_info_of_conv(conversation_id, info_needed):\n",
    "    \n",
    "    conversation_id = str(conversation_id)\n",
    "    info_needed = str(info_needed)\n",
    "    \n",
    "    url = conversations_api+HTTP_request_conversation_info\n",
    "    params = {\"conversation_id\": conversation_id}\n",
    "    response_conversation = requests.post(url, json=params, headers=header)\n",
    "    conversation_info = response_conversation.json()\n",
    "\n",
    "    info = conversation_info.get(info_needed)\n",
    "    \n",
    "    return info"
   ]
  },
  {
   "cell_type": "code",
   "execution_count": 18,
   "id": "b13b335d",
   "metadata": {},
   "outputs": [
    {
     "data": {
      "text/plain": [
       "[{'message_id': '754893-0',\n",
       "  'text': \"hello, my money hasn't landed in my bank account yet. I want to know what happened\",\n",
       "  'created_at': '1640197668'}]"
      ]
     },
     "execution_count": 18,
     "metadata": {},
     "output_type": "execute_result"
    }
   ],
   "source": [
    "generate_info_of_conv('754893', 'messages')\n"
   ]
  },
  {
   "cell_type": "markdown",
   "id": "79886ebf",
   "metadata": {},
   "source": [
    "## treat one conversation by one"
   ]
  },
  {
   "cell_type": "code",
   "execution_count": 19,
   "id": "9c810abe",
   "metadata": {},
   "outputs": [
    {
     "data": {
      "text/plain": [
       "[754893, 754894, 754895, 754896, 754897]"
      ]
     },
     "execution_count": 19,
     "metadata": {},
     "output_type": "execute_result"
    }
   ],
   "source": [
    "generate_act_convs_list()"
   ]
  },
  {
   "cell_type": "markdown",
   "id": "3fae97f3",
   "metadata": {},
   "source": [
    "# USE this pipeline for answering the questions"
   ]
  },
  {
   "cell_type": "code",
   "execution_count": 47,
   "id": "6366f773",
   "metadata": {},
   "outputs": [],
   "source": [
    "def responses_pipeline():\n",
    "    active_chats = generate_act_convs_list()\n",
    "    subject_list = []\n",
    "#     while len(active_chats) > 0:\n",
    "    for chat in list(active_chats): #parse all the active chats\n",
    "        #parse all the active messages in a conversation\n",
    "        messages = generate_info_of_conv(chat, 'messages')\n",
    "        for message in list(messages):\n",
    "\n",
    "            #generate the subject of the problem and give it to the bot AI\n",
    "            subject = generate_info_of_conv(chat,'subject')\n",
    "            subject_list.append(subject)\n",
    "            messages.remove(message)\n",
    "            \n",
    "        \n",
    "        active_chats.remove(chat)\n",
    "    return subject_list"
   ]
  },
  {
   "cell_type": "code",
   "execution_count": 48,
   "id": "c7bf8e66",
   "metadata": {},
   "outputs": [
    {
     "data": {
      "text/plain": [
       "['bank account receipt problem',\n",
       " 'connection problem',\n",
       " 'late delivery',\n",
       " 'check delivery address',\n",
       " 'delivery forecast']"
      ]
     },
     "execution_count": 48,
     "metadata": {},
     "output_type": "execute_result"
    }
   ],
   "source": [
    "responses_pipeline()"
   ]
  },
  {
   "cell_type": "markdown",
   "id": "1aff45c5",
   "metadata": {},
   "source": [
    "# Delivery Response"
   ]
  },
  {
   "cell_type": "markdown",
   "id": "09a8e274",
   "metadata": {},
   "source": [
    "## Check delivery API status"
   ]
  },
  {
   "cell_type": "code",
   "execution_count": 32,
   "id": "f78e6f00",
   "metadata": {},
   "outputs": [],
   "source": [
    "def delivery_api_status(id_sale, zip_code):\n",
    "    #urls\n",
    "    sale_url= sale_id_api+HTTP_request_sale_track\n",
    "    zip_url = sale_id_api+HTTP_request_sale_zip \n",
    "    \n",
    "    \n",
    "    #API response\n",
    "    response_sale_track = requests.post(sale_url, json={'id_sale':id_sale}, headers=header).json() #HARD CODE\n",
    "    response_sale_zip = requests.post(zip_url, json={'zip_code':zip_code}, headers=header).json()\n",
    "    \n",
    "    #API Problem checker\n",
    "    api_sale = api_problem(response_sale_track)\n",
    "    api_zip = api_problem(response_sale_zip)\n",
    "    \n",
    "    #lista y si alguno es error regresar zip error\n",
    "    \n",
    "    return (api_sale, api_zip)"
   ]
  },
  {
   "cell_type": "code",
   "execution_count": 33,
   "id": "47988cfa",
   "metadata": {},
   "outputs": [
    {
     "data": {
      "text/plain": [
       "(None, 'error')"
      ]
     },
     "execution_count": 33,
     "metadata": {},
     "output_type": "execute_result"
    }
   ],
   "source": [
    "delivery_api_status('123457','02219001')"
   ]
  },
  {
   "cell_type": "code",
   "execution_count": 24,
   "id": "98f6c03f",
   "metadata": {},
   "outputs": [
    {
     "data": {
      "text/plain": [
       "{'error': 'Internal error'}"
      ]
     },
     "execution_count": 24,
     "metadata": {},
     "output_type": "execute_result"
    }
   ],
   "source": [
    "#get id sale from SQL\n",
    "id_sale = get_sale_id_SQL('849583')\n",
    "\n",
    "#get info from tracking API\n",
    "tracking_info = generate_sale_tracking_info(id_sale)\n",
    "#get info zip code API\n",
    "zip_code = tracking_info.get(\"destination_zip_code\")\n",
    "zip_code_info = generate_sale_zip_info({'zip_code':zip_code})\n",
    "zip_code_info"
   ]
  },
  {
   "cell_type": "code",
   "execution_count": 36,
   "id": "fe2b131f",
   "metadata": {},
   "outputs": [
    {
     "name": "stdout",
     "output_type": "stream",
     "text": [
      "{'id_sale': '123458'}\n"
     ]
    },
    {
     "data": {
      "text/plain": [
       "{'id': '123458',\n",
       " 'status': 'In transit between distribution centers',\n",
       " 'delivery_forecast': '01/03/2022',\n",
       " 'destination_zip_code': '60811340'}"
      ]
     },
     "execution_count": 36,
     "metadata": {},
     "output_type": "execute_result"
    }
   ],
   "source": [
    "#try api error\n",
    "id_sale = get_sale_id_SQL('849583')\n",
    "print(id_sale)\n",
    "tracking_info = generate_sale_tracking_info(id_sale)\n",
    "print(tracking_info)\n",
    "zip_code = tracking_info()"
   ]
  },
  {
   "cell_type": "code",
   "execution_count": 25,
   "id": "212908f2",
   "metadata": {},
   "outputs": [],
   "source": [
    "def api_problem(dictionary):\n",
    "    api_error = ['Internal error', 'NA', 'error']\n",
    "    for word in api_error:\n",
    "        if word in dictionary:\n",
    "            return word"
   ]
  },
  {
   "cell_type": "code",
   "execution_count": 26,
   "id": "f23a9ac6",
   "metadata": {},
   "outputs": [
    {
     "data": {
      "text/plain": [
       "'error'"
      ]
     },
     "execution_count": 26,
     "metadata": {},
     "output_type": "execute_result"
    }
   ],
   "source": [
    "api_problem(zip_code_info)"
   ]
  },
  {
   "cell_type": "markdown",
   "id": "7afdccfb",
   "metadata": {},
   "source": [
    "## Response"
   ]
  },
  {
   "cell_type": "code",
   "execution_count": 27,
   "id": "3b16ddb7",
   "metadata": {},
   "outputs": [
    {
     "data": {
      "text/plain": [
       "{'id_sale': '123457'}"
      ]
     },
     "execution_count": 27,
     "metadata": {},
     "output_type": "execute_result"
    }
   ],
   "source": [
    "id_sale = get_sale_id_SQL('395023')\n",
    "id_sale"
   ]
  },
  {
   "cell_type": "code",
   "execution_count": 28,
   "id": "43bf771a",
   "metadata": {},
   "outputs": [
    {
     "data": {
      "text/plain": [
       "{'id': '123457',\n",
       " 'status': 'In customs clearance in Brazil',\n",
       " 'delivery_forecast': '01/02/2022',\n",
       " 'destination_zip_code': '02219001'}"
      ]
     },
     "execution_count": 28,
     "metadata": {},
     "output_type": "execute_result"
    }
   ],
   "source": [
    "generate_sale_tracking_info(id_sale)"
   ]
  },
  {
   "cell_type": "code",
   "execution_count": 29,
   "id": "86fd163c",
   "metadata": {},
   "outputs": [
    {
     "name": "stdout",
     "output_type": "stream",
     "text": [
      "Concerning your current issue\n",
      "Your machine it's expected to be deliver the \u001b[1m01/12/2021\u001b[0m\n",
      "To the following address:\n",
      "\u001b[1mMG, Belo Horizonte, Rua Professor Patrocínio Filho, Palmares, 31160550\u001b[0m.\n",
      "Status: \u001b[1mOn delivery route\u001b[0m\n"
     ]
    }
   ],
   "source": [
    "merchant_id = '384923'\n",
    "# 395023\n",
    "# 849583\n",
    "# 384923\n",
    "# 558392 530364 384923\n",
    "#TBD check that all api are [200] if not -> answer internar error \n",
    "\n",
    "#--------------------------------\n",
    "#api_status = delivery_api_status(id_sale=id_sale, zip_code=zip_code)\n",
    "# api_status = delivery_api_status()\n",
    "\n",
    "# if api_status == 'err':\n",
    "#     print('internal error')\n",
    "# else:\n",
    "#     #the rest\n",
    "#--------------------------------\n",
    "\n",
    "#get id sale from SQL\n",
    "id_sale = get_sale_id_SQL(merchant_id)\n",
    "\n",
    "#get info from tracking API\n",
    "tracking_info = generate_sale_tracking_info(id_sale)\n",
    "\n",
    "#get info zip code API\n",
    "zip_code = tracking_info.get(\"destination_zip_code\")\n",
    "zip_code_info = generate_sale_zip_info({'zip_code':zip_code})\n",
    "#variables\n",
    "delivery_forecast = tracking_info.get('delivery_forecast')\n",
    "order_status = tracking_info.get('status')\n",
    "neighborhood = zip_code_info.get('neighborhood')\n",
    "city = zip_code_info.get('city')\n",
    "street = zip_code_info.get('street')\n",
    "state = zip_code_info.get('state')\n",
    "complement = zip_code_info.get('complement')\n",
    "\n",
    "if complement is not None and isinstance(complement,str) and len(complement)>0: #do something when there is a complement\n",
    "    print(f\"Concerning your current issue\\nYour machine it's expected to be deliver the \\033[1m{delivery_forecast}\\033[0m\\nTo the following address:\\n\\033[1m{state}, {city}, {street}, {neighborhood}, {zip_code}\\033[0m, \\033[1m{complement}\\033[0m.\\nStatus: \\033[1m{order_status}\\033[0m\")\n",
    "else:\n",
    "    print(f\"Concerning your current issue\\nYour machine it's expected to be deliver the \\033[1m{delivery_forecast}\\033[0m\\nTo the following address:\\n\\033[1m{state}, {city}, {street}, {neighborhood}, {zip_code}\\033[0m.\\nStatus: \\033[1m{order_status}\\033[0m\")\n"
   ]
  },
  {
   "cell_type": "code",
   "execution_count": 30,
   "id": "9e43f533",
   "metadata": {},
   "outputs": [],
   "source": [
    "def delivery_response(merchant_id):\n",
    "    #TBD check that all api are [200] if not -> answer internar error \n",
    "\n",
    "    #--------------------------------\n",
    "    #api_status = delivery_api_status(id_sale=id_sale, zip_code=zip_code)\n",
    "    # api_status = delivery_api_status()\n",
    "\n",
    "    # if api_status == 'err':\n",
    "    #     print('internal error')\n",
    "    # else:\n",
    "    #     #the rest\n",
    "    #--------------------------------\n",
    "\n",
    "    #get id sale from SQL\n",
    "    id_sale = get_sale_id_SQL(merchant_id)\n",
    "\n",
    "    #get info from tracking API\n",
    "    tracking_info = generate_sale_tracking_info(id_sale)\n",
    "\n",
    "    #get info zip code API\n",
    "    zip_code = tracking_info.get(\"destination_zip_code\")\n",
    "    zip_code_info = generate_sale_zip_info({'zip_code':zip_code})\n",
    "    #variables\n",
    "    delivery_forecast = tracking_info.get('delivery_forecast')\n",
    "    order_status = tracking_info.get('status')\n",
    "    neighborhood = zip_code_info.get('neighborhood')\n",
    "    city = zip_code_info.get('city')\n",
    "    street = zip_code_info.get('street')\n",
    "    state = zip_code_info.get('state')\n",
    "    complement = zip_code_info.get('complement')\n",
    "\n",
    "    if complement is not None and isinstance(complement,str) and len(complement)>0: #do something when there is a complement\n",
    "        return print(f\"Concerning your current issue\\nYour machine it's expected to be deliver the \\033[1m{delivery_forecast}\\033[0m\\nTo the following address:\\n\\033[1m{state}, {city}, {street}, {neighborhood}, {zip_code}\\033[0m, \\033[1m{complement}\\033[0m.\\nStatus: \\033[1m{order_status}\\033[0m\")\n",
    "    else:\n",
    "        return print(f\"Concerning your current issue\\nYour machine it's expected to be deliver the \\033[1m{delivery_forecast}\\033[0m\\nTo the following address:\\n\\033[1m{state}, {city}, {street}, {neighborhood}, {zip_code}\\033[0m.\\nStatus: \\033[1m{order_status}\\033[0m\")\n"
   ]
  },
  {
   "cell_type": "code",
   "execution_count": 31,
   "id": "d9108769",
   "metadata": {},
   "outputs": [
    {
     "name": "stdout",
     "output_type": "stream",
     "text": [
      "Concerning your current issue\n",
      "Your machine it's expected to be deliver the \u001b[1m01/03/2022\u001b[0m\n",
      "To the following address:\n",
      "\u001b[1mNone, None, None, None, 60811340\u001b[0m.\n",
      "Status: \u001b[1mIn transit between distribution centers\u001b[0m\n"
     ]
    }
   ],
   "source": [
    "delivery_response(849583)"
   ]
  },
  {
   "cell_type": "code",
   "execution_count": null,
   "id": "a88b9195",
   "metadata": {},
   "outputs": [],
   "source": []
  }
 ],
 "metadata": {
  "kernelspec": {
   "display_name": "Python 3 (ipykernel)",
   "language": "python",
   "name": "python3"
  },
  "language_info": {
   "codemirror_mode": {
    "name": "ipython",
    "version": 3
   },
   "file_extension": ".py",
   "mimetype": "text/x-python",
   "name": "python",
   "nbconvert_exporter": "python",
   "pygments_lexer": "ipython3",
   "version": "3.8.12"
  },
  "toc": {
   "base_numbering": 1,
   "nav_menu": {},
   "number_sections": true,
   "sideBar": true,
   "skip_h1_title": false,
   "title_cell": "Table of Contents",
   "title_sidebar": "Contents",
   "toc_cell": false,
   "toc_position": {},
   "toc_section_display": true,
   "toc_window_display": false
  }
 },
 "nbformat": 4,
 "nbformat_minor": 5
}
