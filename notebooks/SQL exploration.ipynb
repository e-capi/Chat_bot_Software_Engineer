{
 "cells": [
  {
   "cell_type": "code",
   "execution_count": 1,
   "id": "ee6a95d9",
   "metadata": {},
   "outputs": [],
   "source": [
    "import sqlite3\n",
    "import requests\n",
    "import string"
   ]
  },
  {
   "cell_type": "code",
   "execution_count": 2,
   "id": "19c3ac3f",
   "metadata": {},
   "outputs": [],
   "source": [
    "conn = sqlite3.connect('/home/ecapi/code/e-capi/Chat_bot_Software_Engineer/Chat_bot_Software_Engineer/data/simulation-db')"
   ]
  },
  {
   "cell_type": "code",
   "execution_count": 3,
   "id": "0c2e25ae",
   "metadata": {},
   "outputs": [],
   "source": [
    "c = conn.cursor()"
   ]
  },
  {
   "cell_type": "code",
   "execution_count": 4,
   "id": "050ad852",
   "metadata": {},
   "outputs": [
    {
     "data": {
      "text/plain": [
       "[(123456,\n",
       "  384923,\n",
       "  'CHIP37648',\n",
       "  '2021-12-01 12:00:00-03:00',\n",
       "  'in progress',\n",
       "  'in the delibery step')]"
      ]
     },
     "execution_count": 4,
     "metadata": {},
     "output_type": "execute_result"
    }
   ],
   "source": [
    "c.execute(\"\"\"SELECT *\n",
    "          From sales\n",
    "          Where id_sale Like '123456'\"\"\")\n",
    "rows = c.fetchall()\n",
    "rows"
   ]
  },
  {
   "cell_type": "markdown",
   "id": "276182ac",
   "metadata": {},
   "source": [
    "# Functions needed"
   ]
  },
  {
   "cell_type": "markdown",
   "id": "56f8fd83",
   "metadata": {},
   "source": [
    "## Settings"
   ]
  },
  {
   "cell_type": "code",
   "execution_count": 5,
   "id": "0cbe8783",
   "metadata": {},
   "outputs": [],
   "source": [
    "#API root and auth\n",
    "sale_id_api = 'https://logistics-api-dot-active-thunder-329100.rj.r.appspot.com'\n",
    "chip_api = 'https://telecom-api-dot-active-thunder-329100.rj.r.appspot.com'\n",
    "conversations_api = 'https://chats-api-dot-active-thunder-329100.rj.r.appspot.com'\n",
    "header = {'authorization': 'teste'} #auth code\n",
    "\n",
    "#HTTP Requests\n",
    "#   Sale API\n",
    "HTTP_request_sale_track = '/tracking'\n",
    "HTTP_request_sale_zip = '/zip_code'\n",
    "#   Chip Api\n",
    "HTTP_request_chip = '/chip_status'\n",
    "#   Conversation API\n",
    "HTTP_request_conversation = '/conversations'\n",
    "HTTP_request_conversation_info = '/conversation_info'"
   ]
  },
  {
   "cell_type": "markdown",
   "id": "321cc48f",
   "metadata": {},
   "source": [
    "## Functions\n"
   ]
  },
  {
   "cell_type": "markdown",
   "id": "83e04e9d",
   "metadata": {},
   "source": [
    "### Tracking Function"
   ]
  },
  {
   "cell_type": "code",
   "execution_count": 6,
   "id": "97316bc4",
   "metadata": {},
   "outputs": [],
   "source": [
    "def generate_sale_tracking_info(params_request):\n",
    "    url = sale_id_api+HTTP_request_sale_track\n",
    "\n",
    "    response_sale_track = requests.post(url, json=params_request, headers=header)\n",
    "    return response_sale_track.json()"
   ]
  },
  {
   "cell_type": "markdown",
   "id": "cf46b29e",
   "metadata": {},
   "source": [
    "### Zip code function"
   ]
  },
  {
   "cell_type": "code",
   "execution_count": 223,
   "id": "5435f539",
   "metadata": {},
   "outputs": [],
   "source": [
    "def generate_sale_zip_info(params_request):\n",
    "    url = sale_id_api+HTTP_request_sale_zip\n",
    "\n",
    "    response_sale_zip = requests.post(url, json={'zip_code':params_request}, headers=header)\n",
    "    return response_sale_zip.json()"
   ]
  },
  {
   "cell_type": "markdown",
   "id": "ef810d1e",
   "metadata": {},
   "source": [
    "### Chip Status function"
   ]
  },
  {
   "cell_type": "code",
   "execution_count": 8,
   "id": "96b59c28",
   "metadata": {},
   "outputs": [],
   "source": [
    "def generate_chip_info(params_request):\n",
    "    url = chip_api+HTTP_request_chip\n",
    "\n",
    "    response_chip = requests.post(url, json=params_request, headers=header)\n",
    "    return response_chip.json()"
   ]
  },
  {
   "cell_type": "markdown",
   "id": "63178cc0",
   "metadata": {},
   "source": [
    "### Active conversation function"
   ]
  },
  {
   "cell_type": "code",
   "execution_count": 16,
   "id": "13ac109b",
   "metadata": {},
   "outputs": [],
   "source": [
    "def generate_act_conv_info():\n",
    "    response_conversation = requests.post(conversations_api+HTTP_request_conversation, headers=header)\n",
    "    json_response_conversation = response_conversation.json() #retrieve active conversations ID\n",
    "\n",
    "    active_chat_list = [] #Create a list of active conversations info\n",
    "    for values in json_response_conversation.values():\n",
    "        for val in values:\n",
    "            params_conver_info = {'conversation_id': str(val)}\n",
    "            response_conversation = requests.post(conversations_api+HTTP_request_conversation_info, headers=header, json=params_conver_info)\n",
    "            active_chat_list.append(response_conversation.json())\n",
    "\n",
    "        return active_chat_list"
   ]
  },
  {
   "cell_type": "code",
   "execution_count": 255,
   "id": "e1550f59",
   "metadata": {},
   "outputs": [
    {
     "data": {
      "text/plain": [
       "{'conversation_id': '754893',\n",
       " 'messages': [{'message_id': '754893-0',\n",
       "   'text': \"hello, my money hasn't landed in my bank account yet. I want to know what happened\",\n",
       "   'created_at': '1640197668'}],\n",
       " 'merchant_id': '558392',\n",
       " 'subject': 'bank account receipt problem'}"
      ]
     },
     "execution_count": 255,
     "metadata": {},
     "output_type": "execute_result"
    }
   ],
   "source": [
    "generate_act_conv_info()[0]"
   ]
  },
  {
   "cell_type": "markdown",
   "id": "2a64c4aa",
   "metadata": {},
   "source": [
    "# SQL data recopilation"
   ]
  },
  {
   "cell_type": "markdown",
   "id": "ea3d74f0",
   "metadata": {},
   "source": [
    "## Greetings"
   ]
  },
  {
   "cell_type": "code",
   "execution_count": 14,
   "id": "30a48379",
   "metadata": {},
   "outputs": [],
   "source": [
    "#help with the first active conversation -> need to parse all the active chats and resolve one by one\n",
    "def greetings():\n",
    "    active_chats_list = generate_act_conv_info()\n",
    "    first_active_chat = active_chats_list[0]\n",
    "    return print(f\"Greetings! I'm e-capi chat bot.\\nI'm here to help you with your \\033[1m{first_active_chat.get('subject')}\\033[0m\"\n",
    ")"
   ]
  },
  {
   "cell_type": "code",
   "execution_count": 15,
   "id": "97e7be40",
   "metadata": {},
   "outputs": [
    {
     "name": "stdout",
     "output_type": "stream",
     "text": [
      "Greetings! I'm e-capi chat bot.\n",
      "I'm here to help you with your \u001b[1mbank account receipt problem\u001b[0m\n"
     ]
    }
   ],
   "source": [
    "greetings()"
   ]
  },
  {
   "cell_type": "markdown",
   "id": "2e4b5891",
   "metadata": {},
   "source": [
    "## Problems classifier"
   ]
  },
  {
   "cell_type": "code",
   "execution_count": 67,
   "id": "2dbeeab6",
   "metadata": {},
   "outputs": [],
   "source": [
    "delivery_problem = ['delivery', 'deliver', 'arrive']\n",
    "receipt_problem = ['receipt']\n",
    "connection_problem = ['connection', 'connect']\n",
    "problem_classifier = [delivery_problem, receipt_problem, connection_problem]"
   ]
  },
  {
   "cell_type": "code",
   "execution_count": 145,
   "id": "6af00d71",
   "metadata": {},
   "outputs": [],
   "source": [
    "problem_classifier_dict ={'delivery_problem': ['delivery', 'deliver', 'arrive'],\n",
    "                        'receipt_problem': ['receipt'],\n",
    "                        'connection_problem': ['connection', 'connect']}\n"
   ]
  },
  {
   "cell_type": "markdown",
   "id": "dca41564",
   "metadata": {},
   "source": [
    "## Analyzer of subject -> define where to search data"
   ]
  },
  {
   "cell_type": "code",
   "execution_count": 167,
   "id": "7bd33554",
   "metadata": {},
   "outputs": [],
   "source": [
    "_subject_problem = ['bank', 'account', 'receipt', 'problem']\n",
    "def match_key_list(dictionary, subject_problem):\n",
    "    for word in subject_problem:\n",
    "        problem = [key for key,val in dictionary.items() if any(word in sub_list for sub_list in val)]\n",
    "        if len(problem) != 0:\n",
    "            break\n",
    "        else: continue\n",
    "    return problem"
   ]
  },
  {
   "cell_type": "code",
   "execution_count": 168,
   "id": "0fcb9f79",
   "metadata": {},
   "outputs": [
    {
     "data": {
      "text/plain": [
       "['receipt_problem']"
      ]
     },
     "execution_count": 168,
     "metadata": {},
     "output_type": "execute_result"
    }
   ],
   "source": [
    "match_key_list(problem_classifier_dict, _subject_problem)"
   ]
  },
  {
   "cell_type": "code",
   "execution_count": 285,
   "id": "68ad2a5b",
   "metadata": {},
   "outputs": [],
   "source": [
    "#take out the while and leave just a subject analyzer\n",
    "def subject_analyzer():\n",
    "    #analyze first chat /!\\ TB automatize\n",
    "    active_chats_list = generate_act_conv_info()\n",
    "    first_active_chat = active_chats_list[0]\n",
    "\n",
    "    subject_to_analyze = first_active_chat.get('subject')\n",
    "\n",
    "    subject_to_analyze = subject_to_analyze.translate(str.maketrans(\"\",\"\", string.punctuation))\n",
    "    list_words_to_analyze = subject_to_analyze.split() #Create a list of words to make a 'dumb' analyzer\n",
    "\n",
    "    problem_type = match_key_list(problem_classifier_dict, subject_to_analyze)\n",
    "        \n",
    "    return problem_type[0]"
   ]
  },
  {
   "cell_type": "code",
   "execution_count": 286,
   "id": "cb67125f",
   "metadata": {},
   "outputs": [
    {
     "data": {
      "text/plain": [
       "'delivery_problem'"
      ]
     },
     "execution_count": 286,
     "metadata": {},
     "output_type": "execute_result"
    }
   ],
   "source": [
    "subject_analyzer()"
   ]
  },
  {
   "cell_type": "code",
   "execution_count": null,
   "id": "bb635259",
   "metadata": {},
   "outputs": [],
   "source": [
    "def subject_analyzer_v2():\n",
    "    #analyze first chat /!\\ TB automatize\n",
    "    active_chats_list = generate_act_conv_info()\n",
    "    first_active_chat = active_chats_list[0]\n",
    "\n",
    "    messages_to_analyze = first_active_chat.get('messages')\n",
    "    subject_to_analyze = first_active_chat.get('subject')\n",
    "\n",
    "    messages_pipeline = len(messages_to_analyze)\n",
    "\n",
    "    while messages_pipeline != 0:\n",
    "       \n",
    "        subject_to_analyze = subject_to_analyze.translate(str.maketrans(\"\",\"\", string.punctuation))\n",
    "        list_words_to_analyze = subject_to_analyze.split() #Create a list of words to make a 'dumb' analyzer\n",
    "        \n",
    "        problem_type = matchkey_list(problem_classifier_dict, subject_to_analyze)\n",
    "\n",
    "\n",
    "        messages_pipeline = messages_pipeline - 1 #Resolve problem and go to next message\n",
    "        \n",
    "        return problem_type[0]"
   ]
  },
  {
   "cell_type": "markdown",
   "id": "38c93636",
   "metadata": {},
   "source": [
    "## metadata SQL recopilator"
   ]
  },
  {
   "cell_type": "code",
   "execution_count": 287,
   "id": "efaa9c4e",
   "metadata": {},
   "outputs": [
    {
     "data": {
      "text/plain": [
       "[{'conversation_id': '754893',\n",
       "  'messages': [{'message_id': '754893-0',\n",
       "    'text': \"hello, my money hasn't landed in my bank account yet. I want to know what happened\",\n",
       "    'created_at': '1640197668'}],\n",
       "  'merchant_id': '558392',\n",
       "  'subject': 'bank account receipt problem'},\n",
       " {'conversation_id': '754894',\n",
       "  'messages': [{'message_id': '754894-0',\n",
       "    'text': \"my chip is not connected to the internet. I've already tested my wifi and it's ok, the problem is on the chip itself\",\n",
       "    'created_at': '1640197670'}],\n",
       "  'merchant_id': '530364',\n",
       "  'subject': 'connection problem'},\n",
       " {'conversation_id': '754895',\n",
       "  'messages': [{'message_id': '754895-0',\n",
       "    'text': \"where is my credit card machine? it hasn't arrived yet, the delivery is already late\",\n",
       "    'created_at': '1640197673'}],\n",
       "  'merchant_id': '384923',\n",
       "  'subject': 'late delivery'},\n",
       " {'conversation_id': '754896',\n",
       "  'messages': [{'message_id': '754896-0',\n",
       "    'text': \"Hi! I wanted to know where my machine is. I'm going on a vacation next week and I won't be here to receive the machine, so I'd like to know what day the delivery is planned to let someone pick it up if I'm not home\",\n",
       "    'created_at': '1640197675'}],\n",
       "  'merchant_id': '395023',\n",
       "  'subject': 'check delivery address'},\n",
       " {'conversation_id': '754897',\n",
       "  'messages': [{'message_id': '754897-0',\n",
       "    'text': 'Good Morning! I bought the infinitepay machine and forgot the address that I asked to use to deliver the machine. Can you guys tell me where the machine will be delivered?',\n",
       "    'created_at': '1640197677'}],\n",
       "  'merchant_id': '849583',\n",
       "  'subject': 'delivery forecast'}]"
      ]
     },
     "execution_count": 287,
     "metadata": {},
     "output_type": "execute_result"
    }
   ],
   "source": [
    "generate_act_conv_info()"
   ]
  },
  {
   "cell_type": "markdown",
   "id": "eb5bc50d",
   "metadata": {},
   "source": [
    "### tests"
   ]
  },
  {
   "cell_type": "code",
   "execution_count": 27,
   "id": "ba3189ab",
   "metadata": {},
   "outputs": [
    {
     "name": "stdout",
     "output_type": "stream",
     "text": [
      "Greetings! I'm e-capi chat bot.\n",
      "I'm here to help you with your \u001b[1mbank account receipt problem\u001b[0m\n",
      "Greetings! I'm e-capi chat bot.\n",
      "I'm here to help you with your \u001b[1mconnection problem\u001b[0m\n",
      "Greetings! I'm e-capi chat bot.\n",
      "I'm here to help you with your \u001b[1mlate delivery\u001b[0m\n",
      "Greetings! I'm e-capi chat bot.\n",
      "I'm here to help you with your \u001b[1mcheck delivery address\u001b[0m\n",
      "Greetings! I'm e-capi chat bot.\n",
      "I'm here to help you with your \u001b[1mdelivery forecast\u001b[0m\n"
     ]
    }
   ],
   "source": [
    "act_convers = generate_act_conv_info()\n",
    "act_convers_pipe = len(act_convers) #needed for the while ?\n",
    "\n",
    "for conversation in act_convers: #Salutation and state the problem\n",
    "    print(f\"Greetings! I'm e-capi chat bot.\\nI'm here to help you with your \\033[1m{conversation.get('subject')}\\033[0m\")\n",
    "    \n",
    "    messages_on_active_conver = len(conversation.get('messages'))\n",
    "    while messages_on_active_conver !=0:\n",
    "        \n",
    "        \n",
    "        messages_on_active_conver -= 1 #mark message as resolve\\"
   ]
  },
  {
   "cell_type": "markdown",
   "id": "54ae12bb",
   "metadata": {},
   "source": [
    "### Func testing"
   ]
  },
  {
   "cell_type": "markdown",
   "id": "91f10b0a",
   "metadata": {},
   "source": [
    "**Function below need a funct that retrieve the merchant_id and parse sql for info**\n",
    "- This function resolve act conversations 1 by 1 and within messages 1 by 1"
   ]
  },
  {
   "cell_type": "code",
   "execution_count": null,
   "id": "801a8e62",
   "metadata": {},
   "outputs": [],
   "source": [
    "def asw_act_conv_pipeline():\n",
    "    act_convers = generate_act_conv_info()\n",
    "    act_convers_pipe = len(act_convers) #needed for the while ?\n",
    "\n",
    "    for conversation in act_convers: #Salutation and state the problem\n",
    "        print(f\"Greetings! I'm e-capi chat bot.\\nI'm here to help you with your \\033[1m{conversation.get('subject')}\\033[0m\")\n",
    "\n",
    "        messages_on_active_conver = len(conversation.get('messages'))\n",
    "        while messages_on_active_conver !=0:\n",
    "            #funct that retrieve the merchant_id and parse sql for info\n",
    "            \n",
    "\n",
    "            #if delivery problem\n",
    "            sale_id = get_sale_id_SQL(conversation)\n",
    "            \n",
    "            messages_on_active_conver -= 1 #mark message as resolve\n",
    "    "
   ]
  },
  {
   "cell_type": "markdown",
   "id": "60137ead",
   "metadata": {},
   "source": [
    "## get sale_id from merchant id"
   ]
  },
  {
   "cell_type": "code",
   "execution_count": 208,
   "id": "d79096a3",
   "metadata": {},
   "outputs": [],
   "source": [
    "#get for the first act conversation /!\\ need to do it for all act convers\n",
    "def get_sale_id_SQL(merchant_id): #for now initialize to first act conv\n",
    "#     conversation=generate_act_conv_info\n",
    "#     conversation = conversation[0] #TBDelt when implemented on asw_convers\n",
    "    \n",
    "#     merchant_id = conversation.get('merchant_id')\n",
    "    \n",
    "    #/!\\ SQL Hardcoded Implement Cloud SQL on GCP\n",
    "    conn = sqlite3.connect('/home/ecapi/code/e-capi/Chat_bot_Software_Engineer/Chat_bot_Software_Engineer/data/simulation-db')\n",
    "    c = conn.cursor()\n",
    "    query = \"\"\"\n",
    "        SELECT id_sale\n",
    "        FROM sales\n",
    "        WHERE sales.merchant_id = ?\n",
    "    \"\"\" \n",
    "    c.execute(query, (merchant_id,))\n",
    "    sale_id = c.fetchone()\n",
    "    return {\"id_sale\": str(sale_id[0])} #gives a tupple, with a second null arg"
   ]
  },
  {
   "cell_type": "code",
   "execution_count": 209,
   "id": "3c8f9362",
   "metadata": {},
   "outputs": [
    {
     "data": {
      "text/plain": [
       "{'id_sale': '123456'}"
      ]
     },
     "execution_count": 209,
     "metadata": {},
     "output_type": "execute_result"
    }
   ],
   "source": [
    "get_sale_id_SQL(384923)"
   ]
  },
  {
   "cell_type": "markdown",
   "id": "d856d9d8",
   "metadata": {},
   "source": [
    "## get receipt info from merchant_id"
   ]
  },
  {
   "cell_type": "code",
   "execution_count": 271,
   "id": "87a8731b",
   "metadata": {},
   "outputs": [],
   "source": [
    "#get for the first act conversation /!\\ need to do it for all act convers\n",
    "def get_receipt_info_SQL(merchant_id): #for now initialize to first act conv\n",
    "#     conversation=generate_act_conv_info\n",
    "#     conversation = conversation[0] #TBDelt when implemented on asw_convers\n",
    "    \n",
    "#     merchant_id = conversation.get('merchant_id')\n",
    "    \n",
    "    #/!\\ SQL Hardcoded Implement Cloud SQL on GCP\n",
    "    conn = sqlite3.connect('/home/ecapi/code/e-capi/Chat_bot_Software_Engineer/Chat_bot_Software_Engineer/data/simulation-db')\n",
    "    c = conn.cursor()\n",
    "    query = \"\"\"\n",
    "        SELECT status, description, value\n",
    "        FROM receipt\n",
    "        WHERE receipt.merchant_id = ?\n",
    "    \"\"\" \n",
    "    c.execute(query, (merchant_id,))\n",
    "    receipt_info = c.fetchone()\n",
    "    \n",
    "    #variables\n",
    "    status = receipt_info[0]\n",
    "    description = receipt_info[1]\n",
    "    value = receipt_info[2]\n",
    "    \n",
    "    answ_dict = {'status':status, 'description': description, 'value': value }\n",
    "    return answ_dict\n",
    "#     return {\"status\": str(status)} #gives a tupple, with a second null arg"
   ]
  },
  {
   "cell_type": "code",
   "execution_count": 272,
   "id": "aaf42b15",
   "metadata": {},
   "outputs": [
    {
     "data": {
      "text/plain": [
       "{'status': 'failed',\n",
       " 'description': \"bank's API is unavailable\",\n",
       " 'value': 177.4}"
      ]
     },
     "execution_count": 272,
     "metadata": {},
     "output_type": "execute_result"
    }
   ],
   "source": [
    "get_receipt_info_SQL('558392')"
   ]
  },
  {
   "cell_type": "code",
   "execution_count": null,
   "id": "e79ae95a",
   "metadata": {},
   "outputs": [],
   "source": []
  },
  {
   "cell_type": "markdown",
   "id": "39f9ed69",
   "metadata": {},
   "source": [
    "## get info for the current problem"
   ]
  },
  {
   "cell_type": "code",
   "execution_count": 305,
   "id": "9a84dd57",
   "metadata": {},
   "outputs": [],
   "source": [
    "def answer_for_problem(conversation=generate_act_conv_info()):\n",
    "    conversation = conversation[1] #TBDelt when implemented on asw_convers\n",
    "    merchant_id = conversation.get('merchant_id')\n",
    "    problem = 'receipt_problem'#subject_analyzer() #not working for others problem than delivery\n",
    "\n",
    "    if problem == 'connection problem':\n",
    "        \n",
    "        #get info tracking API\n",
    "        id_sale = get_sale_id_SQL(merchant_id)\n",
    "        tracking_info = generate_sale_tracking_info(id_sale)\n",
    "        \n",
    "        #get info zip code API\n",
    "        zip_code = tracking_info.get(\"destination_zip_code\")\n",
    "        zip_code_info = generate_sale_zip_info(zip_code)\n",
    "        \n",
    "        #variables\n",
    "        delivery_forecast = tracking_info.get('delivery_forecast')\n",
    "        order_status = tracking_info.get('status')\n",
    "        neighborhood = zip_code_info.get('neighborhood')\n",
    "        city = zip_code_info.get('city')\n",
    "        street = zip_code_info.get('street')\n",
    "        state = zip_code_info.get('state')\n",
    "        \n",
    "#         if len(zip_code_info.get('complement')) != 0: #do something when there is a complement\n",
    "#             complement = zip_code_info.get('complement')\n",
    "        \n",
    "        return print(f\"Concerning your current issue\\nYour machine it's expected to be deliver the \\033[1m{delivery_forecast}\\033[0m\\nTo the following address:\\n\\033[1m{state}, {city}, {street}, {neighborhood}, {zip_code}\\033[0m.\\nStatus: \\033[1m{order_status}\\033[0m\")\n",
    "        \n",
    "        \n",
    "    elif problem == 'receipt_problem':\n",
    "        #get receipt info from SQL\n",
    "        receipt_info = get_receipt_info_SQL(merchant_id)\n",
    "        \n",
    "        #variables\n",
    "        status_receipt = receipt_info.get('status')\n",
    "        description_receipt = receipt_info.get('description')\n",
    "        value_receipt = receipt_info.get('value')\n",
    "        \n",
    "        print(f\"\\033[1mFirst of all we would like to remind you that transactions have a 24h delay before being transfered.\\033[0m\\nConcerning your demand here is some information:\\nTotal Amount: \\033[1mR${value_receipt}\\033[0m\\nStatus: \\033[1m{status_receipt}\\033[0m\\nAdditional info:\\033[1m{description_receipt}\\033[0m\")\n",
    "    \n",
    "    elif problem == 'connection_problem':\n",
    "        pass\n",
    "    \n",
    "    \n",
    "    else:\n",
    "        pass\n",
    "            "
   ]
  },
  {
   "cell_type": "code",
   "execution_count": 306,
   "id": "708171ec",
   "metadata": {},
   "outputs": [
    {
     "name": "stdout",
     "output_type": "stream",
     "text": [
      "\u001b[1mFirst of all we would like to remind you that transactions have a 24h delay before being transfered.\u001b[0m\n",
      "Concerning your demand here is some information:\n",
      "Total Amount: \u001b[1mR$177.4\u001b[0m\n",
      "Status: \u001b[1mfailed\u001b[0m\n",
      "Additional info:\u001b[1mbank's API is unavailable\u001b[0m\n"
     ]
    }
   ],
   "source": [
    "answer_for_problem()"
   ]
  },
  {
   "cell_type": "code",
   "execution_count": 308,
   "id": "695c9278",
   "metadata": {},
   "outputs": [
    {
     "data": {
      "text/plain": [
       "{'conversation_id': '754894',\n",
       " 'messages': [{'message_id': '754894-0',\n",
       "   'text': \"my chip is not connected to the internet. I've already tested my wifi and it's ok, the problem is on the chip itself\",\n",
       "   'created_at': '1640197670'}],\n",
       " 'merchant_id': '530364',\n",
       " 'subject': 'connection problem'}"
      ]
     },
     "execution_count": 308,
     "metadata": {},
     "output_type": "execute_result"
    }
   ],
   "source": [
    "generate_act_conv_info()[1]"
   ]
  },
  {
   "cell_type": "code",
   "execution_count": null,
   "id": "24b3e876",
   "metadata": {},
   "outputs": [],
   "source": []
  }
 ],
 "metadata": {
  "kernelspec": {
   "display_name": "Python 3 (ipykernel)",
   "language": "python",
   "name": "python3"
  },
  "language_info": {
   "codemirror_mode": {
    "name": "ipython",
    "version": 3
   },
   "file_extension": ".py",
   "mimetype": "text/x-python",
   "name": "python",
   "nbconvert_exporter": "python",
   "pygments_lexer": "ipython3",
   "version": "3.8.12"
  },
  "toc": {
   "base_numbering": 1,
   "nav_menu": {},
   "number_sections": true,
   "sideBar": true,
   "skip_h1_title": false,
   "title_cell": "Table of Contents",
   "title_sidebar": "Contents",
   "toc_cell": false,
   "toc_position": {},
   "toc_section_display": true,
   "toc_window_display": false
  }
 },
 "nbformat": 4,
 "nbformat_minor": 5
}
