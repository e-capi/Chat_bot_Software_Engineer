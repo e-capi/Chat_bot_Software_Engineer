{
 "cells": [
  {
   "cell_type": "code",
   "execution_count": 1,
   "id": "84e3d917",
   "metadata": {},
   "outputs": [],
   "source": [
    "import sqlite3\n",
    "import requests\n",
    "import string\n",
    "import datetime"
   ]
  },
  {
   "cell_type": "markdown",
   "id": "0804ea24",
   "metadata": {},
   "source": [
    "# Settings "
   ]
  },
  {
   "cell_type": "code",
   "execution_count": 2,
   "id": "b3ebd9a8",
   "metadata": {},
   "outputs": [],
   "source": [
    "#API root and auth\n",
    "sale_id_api = 'https://logistics-api-dot-active-thunder-329100.rj.r.appspot.com'\n",
    "chip_api = 'https://telecom-api-dot-active-thunder-329100.rj.r.appspot.com'\n",
    "conversations_api = 'https://chats-api-dot-active-thunder-329100.rj.r.appspot.com'\n",
    "header = {'authorization': 'teste'} #auth code\n",
    "\n",
    "#HTTP Requests\n",
    "#   Sale API\n",
    "HTTP_request_sale_track = '/tracking'\n",
    "HTTP_request_sale_zip = '/zip_code'\n",
    "#   Chip Api\n",
    "HTTP_request_chip = '/chip_status'\n",
    "#   Conversation API\n",
    "HTTP_request_conversation = '/conversations'\n",
    "HTTP_request_conversation_info = '/conversation_info'\n",
    "\n",
    "#Customer contact info\n",
    "contact_info = 'customer_service@help.br'"
   ]
  },
  {
   "cell_type": "markdown",
   "id": "f1dbe681",
   "metadata": {},
   "source": [
    "# SQL tools"
   ]
  },
  {
   "cell_type": "code",
   "execution_count": 3,
   "id": "e1fddc68",
   "metadata": {},
   "outputs": [],
   "source": [
    "def get_sale_id_SQL(merchant_id):\n",
    "\n",
    "    #/!\\ SQL Hardcoded Implement Cloud SQL on GCP\n",
    "    conn = sqlite3.connect('/home/ecapi/code/e-capi/Chat_bot_Software_Engineer/Chat_bot_Software_Engineer/data/simulation-db')\n",
    "    c = conn.cursor()\n",
    "    query = \"\"\"\n",
    "        SELECT id_sale\n",
    "        FROM sales\n",
    "        WHERE sales.merchant_id = ?\n",
    "    \"\"\"\n",
    "    c.execute(query, (merchant_id,))\n",
    "    sale_id = c.fetchone()\n",
    "    return {\"id_sale\": str(sale_id[0])} #gives a tupple, with a second null arg"
   ]
  },
  {
   "cell_type": "code",
   "execution_count": 4,
   "id": "3c846506",
   "metadata": {},
   "outputs": [],
   "source": [
    "#GET receipt info from merchant_id\n",
    "\n",
    "def get_receipt_info_SQL(merchant_id):\n",
    "\n",
    "    #/!\\ SQL Hardcoded Implement Cloud SQL on GCP\n",
    "    conn = sqlite3.connect('/home/ecapi/code/e-capi/Chat_bot_Software_Engineer/Chat_bot_Software_Engineer/data/simulation-db')\n",
    "    c = conn.cursor()\n",
    "    query = \"\"\"\n",
    "        SELECT status, description, value, created_at\n",
    "        FROM receipt\n",
    "        WHERE receipt.merchant_id = ?\n",
    "    \"\"\"\n",
    "    c.execute(query, (merchant_id,))\n",
    "    receipt_info = c.fetchone()\n",
    "\n",
    "    #variables\n",
    "    status = receipt_info[0]\n",
    "    description = receipt_info[1]\n",
    "    value = receipt_info[2]\n",
    "    created_at = receipt_info[3]\n",
    "    \n",
    "    created_at = created_at.split()[0] #Select only the date\n",
    "    \n",
    "    answ_dict = {'status':status, 'description': description, 'value': value, 'created_at': created_at }\n",
    "    return answ_dict"
   ]
  },
  {
   "cell_type": "code",
   "execution_count": 5,
   "id": "ffd8fb7d",
   "metadata": {},
   "outputs": [],
   "source": [
    "#GET chip status from merchant_id\n",
    "def get_chip_id_SQL(merchant_id):\n",
    "\n",
    "    #/!\\ SQL Hardcoded Implement Cloud SQL on GCP\n",
    "    conn = sqlite3.connect('/home/ecapi/code/e-capi/Chat_bot_Software_Engineer/Chat_bot_Software_Engineer/data/simulation-db')\n",
    "    c = conn.cursor()\n",
    "    query = \"\"\"\n",
    "        SELECT chip_id\n",
    "        FROM sales\n",
    "        WHERE sales.merchant_id = ?\n",
    "    \"\"\"\n",
    "    c.execute(query, (merchant_id,))\n",
    "    chip_id = c.fetchone()\n",
    "    return {\"chip_id\": str(chip_id[0])} #gives a tupple, with a second null arg"
   ]
  },
  {
   "cell_type": "code",
   "execution_count": 6,
   "id": "c52220b7",
   "metadata": {},
   "outputs": [],
   "source": [
    "#GET transactions from merchant_id\n",
    "\n",
    "def get_transactions_info_SQL(merchant_id):\n",
    "\n",
    "    #/!\\ SQL Hardcoded Implement Cloud SQL on GCP\n",
    "    conn = sqlite3.connect('/home/ecapi/code/e-capi/Chat_bot_Software_Engineer/Chat_bot_Software_Engineer/data/simulation-db')\n",
    "    c = conn.cursor()\n",
    "    query = \"\"\"\n",
    "        SELECT transaction_id, value\n",
    "        FROM transactions\n",
    "        WHERE transactions.merchant_id = ?\n",
    "    \"\"\"\n",
    "    c.execute(query, (merchant_id,))\n",
    "    transactions_info = c.fetchall()\n",
    "\n",
    "    transactions_info_list = []\n",
    "    for transaction in transactions_info:\n",
    "        \n",
    "        transaction = list(transaction)\n",
    "        transaction_dict = {'transaction_id': transaction[0], 'value': transaction[1]}\n",
    "        transactions_info_list.append(transaction_dict)\n",
    "        \n",
    "    return transactions_info_list"
   ]
  },
  {
   "cell_type": "code",
   "execution_count": 7,
   "id": "a22d297a",
   "metadata": {},
   "outputs": [],
   "source": [
    "#GET aggregated transactions from merchant_id\n",
    "\n",
    "def get_transactions_aggregate_SQL(merchant_id): #for now initialize to first act conv\n",
    "\n",
    "    #/!\\ SQL Hardcoded Implement Cloud SQL on GCP\n",
    "    conn = sqlite3.connect('/home/ecapi/code/e-capi/Chat_bot_Software_Engineer/Chat_bot_Software_Engineer/data/simulation-db')\n",
    "    c = conn.cursor()\n",
    "    query = \"\"\"\n",
    "        SELECT COUNT(transaction_id) as total_transactions, SUM(value) as total_value\n",
    "        FROM transactions\n",
    "        WHERE transactions.merchant_id = ?\n",
    "    \"\"\"\n",
    "    c.execute(query, (merchant_id,))\n",
    "    transactions_aggregation = c.fetchone()\n",
    "\n",
    "    #variables\n",
    "    transactions_amount = transactions_aggregation[0]\n",
    "    transactions_value = transactions_aggregation[1]\n",
    "\n",
    "\n",
    "    answ_dict = {'transactions_amount':transactions_amount, 'transactions_value': transactions_value }\n",
    "    return answ_dict"
   ]
  },
  {
   "cell_type": "markdown",
   "id": "cf1f18b3",
   "metadata": {},
   "source": [
    "# API tools"
   ]
  },
  {
   "cell_type": "code",
   "execution_count": 8,
   "id": "2aeea349",
   "metadata": {},
   "outputs": [],
   "source": [
    "def generate_sale_tracking_info(params_request):\n",
    "    contact_info = 'customer_service@help.br'\n",
    "    url = sale_id_api+HTTP_request_sale_track\n",
    "\n",
    "    try:\n",
    "        response = requests.post(url, json=params_request, headers=header)\n",
    "        response.raise_for_status()\n",
    "\n",
    "    except requests.exceptions.HTTPError as errh:\n",
    "        return f\"An Http Error occurred: Please, contact us at: {contact_info}\"\n",
    "    except requests.exceptions.ConnectionError as errc:\n",
    "        return f\"A Connection Error occurred: Please, try again later or contact us at: {contact_info}\"\n",
    "    except requests.exceptions.Timeout as errt:\n",
    "        return f\"A Timeout Error occurred: Please, try again later or contact us at: {contact_info}\"\n",
    "    except requests.exceptions.RequestException as err:\n",
    "        return f\"An Unknown Error occurred: Please, contact us at: {contact_info}\"\n",
    "\n",
    "    return response.json()"
   ]
  },
  {
   "cell_type": "code",
   "execution_count": 9,
   "id": "a80d3d63",
   "metadata": {},
   "outputs": [],
   "source": [
    "#Zip code Function\n",
    "\n",
    "def generate_sale_zip_info(params_request):\n",
    "    contact_info = 'customer_service@help.br'\n",
    "    url = sale_id_api+HTTP_request_sale_zip\n",
    "\n",
    "    try:\n",
    "        response = requests.post(url, json=params_request, headers=header)\n",
    "        response.raise_for_status()\n",
    "\n",
    "    except requests.exceptions.HTTPError as errh:\n",
    "        return f\"An Http Error occurred: Please, contact us at: {contact_info}\"\n",
    "    except requests.exceptions.ConnectionError as errc:\n",
    "        return f\"A Connection Error occurred: Please, try again later or contact us at: {contact_info}\"\n",
    "    except requests.exceptions.Timeout as errt:\n",
    "        return f\"A Timeout Error occurred: Please, try again later or contact us at: {contact_info}\"\n",
    "    except requests.exceptions.RequestException as err:\n",
    "        return f\"An Unknown Error occurred: Please, contact us at: {contact_info}\"\n",
    "\n",
    "    return response.json()"
   ]
  },
  {
   "cell_type": "code",
   "execution_count": 10,
   "id": "5c314422",
   "metadata": {},
   "outputs": [],
   "source": [
    "#----Function Chip Status-----\n",
    "def generate_chip_info(params_request):\n",
    "    contact_info = 'customer_service@help.br'\n",
    "    url = chip_api+HTTP_request_chip\n",
    "\n",
    "    try:\n",
    "        response = requests.post(url, json=params_request, headers=header)\n",
    "        response.raise_for_status()\n",
    "\n",
    "    except requests.exceptions.HTTPError as errh:\n",
    "        return f\"An Http Error occurred: Please, contact us at: {contact_info}\"\n",
    "    except requests.exceptions.ConnectionError as errc:\n",
    "        return f\"A Connection Error occurred: Please, try again later or contact us at: {contact_info}\"\n",
    "    except requests.exceptions.Timeout as errt:\n",
    "        return f\"A Timeout Error occurred: Please, try again later or contact us at: {contact_info}\"\n",
    "    except requests.exceptions.RequestException as err:\n",
    "        return f\"An Unknown Error occurred: Please, contact us at: {contact_info}\"\n",
    "\n",
    "    return response.json()"
   ]
  },
  {
   "cell_type": "code",
   "execution_count": 11,
   "id": "f20af8bf",
   "metadata": {},
   "outputs": [],
   "source": [
    "#----Function all Active Conversations info----\n",
    "def generate_all_act_conv_info():\n",
    "    url = conversations_api+HTTP_request_conversation\n",
    "    response = requests.post(url, headers=header)\n",
    "    json_response = response.json() #retrieve active conversations ID\n",
    "\n",
    "    active_chat_list = [] #Create a list of active conversations info\n",
    "    for values in json_response.values():\n",
    "        for val in values:\n",
    "            params_conver_info = {'conversation_id': str(val)}\n",
    "            response = requests.post(conversations_api+HTTP_request_conversation_info, headers=header, json=params_conver_info)\n",
    "            active_chat_list.append(response.json())\n",
    "\n",
    "        return active_chat_list"
   ]
  },
  {
   "cell_type": "code",
   "execution_count": 12,
   "id": "f40c42be",
   "metadata": {},
   "outputs": [],
   "source": [
    "#----Function all Active Chats List----\n",
    "def generate_act_convs_list():\n",
    "    url = conversations_api+HTTP_request_conversation\n",
    "    response = requests.post(url, headers=header)\n",
    "    json_response = response.json() #retrieve active conversations ID\n",
    "\n",
    "    active_convs_list = json_response.get('conversation_ids')\n",
    "    return active_convs_list"
   ]
  },
  {
   "cell_type": "code",
   "execution_count": 13,
   "id": "03051950",
   "metadata": {},
   "outputs": [],
   "source": [
    "#----Function one conversation info----\n",
    "def generate_act_conv_info(conversation_id):\n",
    "\n",
    "    url = conversations_api+HTTP_request_conversation_info\n",
    "    params = {\"conversation_id\": conversation_id}\n",
    "    response_conversation = requests.post(url, json=params, headers=header)\n",
    "    conversation_info = response_conversation.json()\n",
    "\n",
    "    return conversation_info"
   ]
  },
  {
   "cell_type": "code",
   "execution_count": 14,
   "id": "b3e4af55",
   "metadata": {},
   "outputs": [],
   "source": [
    "# for pipeline response\n",
    "def generate_info_of_conv(conversation_id, info_needed):\n",
    "\n",
    "    conversation_id = str(conversation_id)\n",
    "    info_needed = str(info_needed)\n",
    "\n",
    "    url = conversations_api+HTTP_request_conversation_info\n",
    "    params = {\"conversation_id\": conversation_id}\n",
    "    response = requests.post(url, json=params, headers=header)\n",
    "    json_response = response.json()\n",
    "\n",
    "    info = json_response.get(info_needed)\n",
    "\n",
    "    return info"
   ]
  },
  {
   "cell_type": "code",
   "execution_count": 15,
   "id": "701697a5",
   "metadata": {},
   "outputs": [],
   "source": [
    "#Check the status for delivery responses\n",
    "def delivery_api_status(param, code):\n",
    "\n",
    "    code = str(code)\n",
    "    param = str(param)\n",
    "\n",
    "    if code == 'zip_code':\n",
    "        response = generate_sale_zip_info({code: param})\n",
    "    elif code == 'id_sale':\n",
    "        response = generate_sale_tracking_info({code: param})\n",
    "\n",
    "    if isinstance(response,dict):\n",
    "\n",
    "        return 'ok'\n",
    "\n",
    "    else:\n",
    "        return 'error'"
   ]
  },
  {
   "cell_type": "markdown",
   "id": "57aac455",
   "metadata": {},
   "source": [
    "# Chat_tools"
   ]
  },
  {
   "cell_type": "code",
   "execution_count": 16,
   "id": "469330b9",
   "metadata": {},
   "outputs": [],
   "source": [
    "def responses_pipeline():\n",
    "    active_chats = generate_act_convs_list()\n",
    "    list_of_problems = []\n",
    "\n",
    "    for conversation_id in list(active_chats):\n",
    "\n",
    "        #give info for every all messages\n",
    "        messages = generate_info_of_conv(conversation_id, 'messages') #messages of one conversation\n",
    "\n",
    "        for message in list(messages):\n",
    "\n",
    "\n",
    "            merchant_id = generate_info_of_conv(conversation_id,'merchant_id')\n",
    "            subject = generate_info_of_conv(conversation_id, 'subject')\n",
    "\n",
    "            features_pipeline = {'conversation_id': conversation_id, 'merchant_id': merchant_id, 'subject': subject}\n",
    "\n",
    "            #create a list to parse on chatbot.py\n",
    "            list_of_problems.append(features_pipeline)\n",
    "            messages.remove(message)\n",
    "\n",
    "        # {'conversation_id': chat_id, 'merchant_id':}\n",
    "    return list_of_problems"
   ]
  },
  {
   "cell_type": "code",
   "execution_count": 17,
   "id": "f161835b",
   "metadata": {},
   "outputs": [
    {
     "data": {
      "text/plain": [
       "[{'conversation_id': 754893,\n",
       "  'merchant_id': '558392',\n",
       "  'subject': 'bank account receipt problem'},\n",
       " {'conversation_id': 754894,\n",
       "  'merchant_id': '530364',\n",
       "  'subject': 'connection problem'},\n",
       " {'conversation_id': 754895,\n",
       "  'merchant_id': '384923',\n",
       "  'subject': 'late delivery'},\n",
       " {'conversation_id': 754896,\n",
       "  'merchant_id': '395023',\n",
       "  'subject': 'check delivery address'},\n",
       " {'conversation_id': 754897,\n",
       "  'merchant_id': '849583',\n",
       "  'subject': 'delivery forecast'}]"
      ]
     },
     "execution_count": 17,
     "metadata": {},
     "output_type": "execute_result"
    }
   ],
   "source": [
    "responses_pipeline()"
   ]
  },
  {
   "cell_type": "code",
   "execution_count": 18,
   "id": "32c0cd55",
   "metadata": {},
   "outputs": [
    {
     "data": {
      "text/plain": [
       "{'status': 'failed',\n",
       " 'description': \"bank's API is unavailable\",\n",
       " 'value': 177.4,\n",
       " 'created_at': '2021-12-22'}"
      ]
     },
     "execution_count": 18,
     "metadata": {},
     "output_type": "execute_result"
    }
   ],
   "source": [
    "get_receipt_info_SQL('558392')"
   ]
  },
  {
   "cell_type": "code",
   "execution_count": 19,
   "id": "1ce80c29",
   "metadata": {},
   "outputs": [
    {
     "data": {
      "text/plain": [
       "[{'transaction_id': 374290, 'value': 127.4},\n",
       " {'transaction_id': 374289, 'value': 50.0}]"
      ]
     },
     "execution_count": 19,
     "metadata": {},
     "output_type": "execute_result"
    }
   ],
   "source": [
    "get_transactions_info_SQL('558392')"
   ]
  },
  {
   "cell_type": "code",
   "execution_count": 20,
   "id": "3b14285a",
   "metadata": {},
   "outputs": [
    {
     "data": {
      "text/plain": [
       "{'transactions_amount': 2, 'transactions_value': 177.4}"
      ]
     },
     "execution_count": 20,
     "metadata": {},
     "output_type": "execute_result"
    }
   ],
   "source": [
    "get_transactions_aggregate_SQL('558392')"
   ]
  },
  {
   "cell_type": "code",
   "execution_count": 21,
   "id": "0cdc2a0c",
   "metadata": {},
   "outputs": [],
   "source": [
    "def receipt_response(merchant_id):\n",
    "    \n",
    "    #get SQL receipt info\n",
    "    try:\n",
    "        total_receipt_info = get_receipt_info_SQL(merchant_id)\n",
    "        total_transactions = get_transactions_aggregate_SQL(merchant_id).get('transactions_amount') #string\n",
    "        transactions_info = get_transactions_info_SQL(merchant_id)\n",
    "    except:\n",
    "        return None\n",
    "    \n",
    "    #variables\n",
    "    status = total_receipt_info.get('status')\n",
    "    description = total_receipt_info.get('description')\n",
    "    total_value = total_receipt_info.get('value')\n",
    "    date = total_receipt_info.get('created_at')\n",
    "    \n",
    "    return f\"\\033[1mFirst of all we would like to remind you that transactions have a 24h delay before being transfered.\\033[0m\\nConcerning your demand here is some information:\\nTransactions Date: \\033[1m{date}\\033[0m\\nNumber of Transactions: \\033[1m{total_transactions}\\033[0m\\nTransactions Total: \\033[1mR${total_value}\\033[0m\\nStatus: \\033[1m{status}\\033[0m\\nDescription: \\033[1m{description}\\033[0m\\nTransactions Involved:\\033[1m{transactions_info}\\033[0m\""
   ]
  },
  {
   "cell_type": "code",
   "execution_count": 22,
   "id": "82ca77c7",
   "metadata": {},
   "outputs": [
    {
     "data": {
      "text/plain": [
       "\"\\x1b[1mFirst of all we would like to remind you that transactions have a 24h delay before being transfered.\\x1b[0m\\nConcerning your demand here is some information:\\nTransactions Date: \\x1b[1m2021-12-22\\x1b[0m\\nNumber of Transactions: \\x1b[1m2\\x1b[0m\\nTransactions Total: \\x1b[1mR$177.4\\x1b[0m\\nStatus: \\x1b[1mfailed\\x1b[0m\\nDescription: \\x1b[1mbank's API is unavailable\\x1b[0m\\nTransactions Involved:\\x1b[1m[{'transaction_id': 374290, 'value': 127.4}, {'transaction_id': 374289, 'value': 50.0}]\\x1b[0m\""
      ]
     },
     "execution_count": 22,
     "metadata": {},
     "output_type": "execute_result"
    }
   ],
   "source": [
    "receipt_response('558392')"
   ]
  },
  {
   "cell_type": "markdown",
   "id": "24e90618",
   "metadata": {},
   "source": [
    "# Connection response"
   ]
  },
  {
   "cell_type": "code",
   "execution_count": 27,
   "id": "c4930db7",
   "metadata": {},
   "outputs": [
    {
     "data": {
      "text/plain": [
       "[{'conversation_id': 754893,\n",
       "  'merchant_id': '558392',\n",
       "  'subject': 'bank account receipt problem'},\n",
       " {'conversation_id': 754894,\n",
       "  'merchant_id': '530364',\n",
       "  'subject': 'connection problem'},\n",
       " {'conversation_id': 754895,\n",
       "  'merchant_id': '384923',\n",
       "  'subject': 'late delivery'},\n",
       " {'conversation_id': 754896,\n",
       "  'merchant_id': '395023',\n",
       "  'subject': 'check delivery address'},\n",
       " {'conversation_id': 754897,\n",
       "  'merchant_id': '849583',\n",
       "  'subject': 'delivery forecast'}]"
      ]
     },
     "execution_count": 27,
     "metadata": {},
     "output_type": "execute_result"
    }
   ],
   "source": [
    "responses_pipeline()"
   ]
  },
  {
   "cell_type": "code",
   "execution_count": 37,
   "id": "3303034f",
   "metadata": {},
   "outputs": [],
   "source": [
    "_chip = get_chip_id_SQL('530364')"
   ]
  },
  {
   "cell_type": "code",
   "execution_count": 38,
   "id": "17cb38f1",
   "metadata": {},
   "outputs": [
    {
     "data": {
      "text/plain": [
       "{'id': 'CHIP37649',\n",
       " 'status': 'inactive',\n",
       " 'description': 'Chip disabled due to non-use'}"
      ]
     },
     "execution_count": 38,
     "metadata": {},
     "output_type": "execute_result"
    }
   ],
   "source": [
    "generate_chip_info(_chip)"
   ]
  },
  {
   "cell_type": "code",
   "execution_count": 45,
   "id": "330d2d46",
   "metadata": {},
   "outputs": [],
   "source": [
    "def connection_response(merchant_id):\n",
    "    #get SQL receipt info\n",
    "    try:\n",
    "        chip_id_SQL = get_chip_id_SQL(merchant_id)\n",
    "        chip_info = generate_chip_info(chip_id_SQL)\n",
    "    except:\n",
    "        return print('problem')\n",
    "    \n",
    "    #variables\n",
    "    chip_id = chip_info.get('id')\n",
    "    status = chip_info.get('status')\n",
    "    description = chip_info.get('description')\n",
    "    \n",
    "    return f\"Concerning your current issue:\\nChip id: \\033[1m{chip_id}\\033[0m\\nStatus: \\033[1m{status}\\033[0m\\nDescription: \\033[1m{description}\\033[0m\"\n",
    "    "
   ]
  },
  {
   "cell_type": "code",
   "execution_count": 46,
   "id": "cdd99625",
   "metadata": {},
   "outputs": [
    {
     "data": {
      "text/plain": [
       "'Concerning your current issue:\\nChip id: \\x1b[1mCHIP37649\\x1b[0m\\nStatus: \\x1b[1minactive\\x1b[0m\\nDescription: \\x1b[1mChip disabled due to non-use\\x1b[0m'"
      ]
     },
     "execution_count": 46,
     "metadata": {},
     "output_type": "execute_result"
    }
   ],
   "source": [
    "connection_response('530364')"
   ]
  },
  {
   "cell_type": "code",
   "execution_count": null,
   "id": "90b8de41",
   "metadata": {},
   "outputs": [],
   "source": []
  }
 ],
 "metadata": {
  "kernelspec": {
   "display_name": "Python 3 (ipykernel)",
   "language": "python",
   "name": "python3"
  },
  "language_info": {
   "codemirror_mode": {
    "name": "ipython",
    "version": 3
   },
   "file_extension": ".py",
   "mimetype": "text/x-python",
   "name": "python",
   "nbconvert_exporter": "python",
   "pygments_lexer": "ipython3",
   "version": "3.8.12"
  },
  "toc": {
   "base_numbering": 1,
   "nav_menu": {},
   "number_sections": true,
   "sideBar": true,
   "skip_h1_title": false,
   "title_cell": "Table of Contents",
   "title_sidebar": "Contents",
   "toc_cell": false,
   "toc_position": {},
   "toc_section_display": true,
   "toc_window_display": false
  }
 },
 "nbformat": 4,
 "nbformat_minor": 5
}
