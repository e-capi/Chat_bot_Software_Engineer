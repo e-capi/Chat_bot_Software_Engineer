{
 "cells": [
  {
   "cell_type": "code",
   "execution_count": 1,
   "id": "ec3e9af2",
   "metadata": {},
   "outputs": [],
   "source": [
    "import pandas as pd\n",
    "import requests\n",
    "import time"
   ]
  },
  {
   "cell_type": "code",
   "execution_count": 2,
   "id": "d100e551",
   "metadata": {},
   "outputs": [],
   "source": [
    "base_url1 = 'https://logistics-api-dot-active-thunder-329100.rj.r.appspot.com'\n",
    "base_url2 = 'https://telecom-api-dot-active-thunder-329100.rj.r.appspot.com'\n",
    "base_url3 = 'https://chats-api-dot-active-thunder-329100.rj.r.appspot.com'"
   ]
  },
  {
   "cell_type": "markdown",
   "id": "a5621007",
   "metadata": {},
   "source": [
    "## Testing first API"
   ]
  },
  {
   "cell_type": "code",
   "execution_count": 3,
   "id": "545b59b7",
   "metadata": {},
   "outputs": [],
   "source": [
    "#auth needed to acces the API\n",
    "header = {'authorization': 'teste'}"
   ]
  },
  {
   "cell_type": "code",
   "execution_count": 47,
   "id": "73e8a47e",
   "metadata": {},
   "outputs": [],
   "source": [
    "api_1 = '/tracking'"
   ]
  },
  {
   "cell_type": "code",
   "execution_count": 52,
   "id": "fed8996f",
   "metadata": {},
   "outputs": [],
   "source": [
    "url_1 = base_url1+api_1"
   ]
  },
  {
   "cell_type": "code",
   "execution_count": 68,
   "id": "d8d3c993",
   "metadata": {},
   "outputs": [],
   "source": [
    "params_1 = {\"id_sale\": \"123457\"}"
   ]
  },
  {
   "cell_type": "code",
   "execution_count": 269,
   "id": "e9cf95db",
   "metadata": {},
   "outputs": [],
   "source": [
    "response_1 = requests.get(base_url1,headers=headers,params=params_sale_id_test)"
   ]
  },
  {
   "cell_type": "code",
   "execution_count": 270,
   "id": "e2afcd6c",
   "metadata": {},
   "outputs": [
    {
     "data": {
      "text/plain": [
       "{'message': 'alive and running!'}"
      ]
     },
     "execution_count": 270,
     "metadata": {},
     "output_type": "execute_result"
    }
   ],
   "source": [
    "response_1.json()"
   ]
  },
  {
   "cell_type": "code",
   "execution_count": 273,
   "id": "49f81b46",
   "metadata": {},
   "outputs": [],
   "source": [
    "response_post = requests.post(url_1,headers=header, json=params_1)"
   ]
  },
  {
   "cell_type": "code",
   "execution_count": 274,
   "id": "91630ff6",
   "metadata": {},
   "outputs": [
    {
     "data": {
      "text/plain": [
       "{'id': '123457',\n",
       " 'status': 'In customs clearance in Brazil',\n",
       " 'delivery_forecast': '01/02/2022',\n",
       " 'destination_zip_code': '02219001'}"
      ]
     },
     "execution_count": 274,
     "metadata": {},
     "output_type": "execute_result"
    }
   ],
   "source": [
    "response_post.json()"
   ]
  },
  {
   "cell_type": "markdown",
   "id": "4a44f149",
   "metadata": {},
   "source": [
    "## Function Read client complains"
   ]
  },
  {
   "cell_type": "markdown",
   "id": "c99fccaf",
   "metadata": {},
   "source": [
    "### Hard Code"
   ]
  },
  {
   "cell_type": "code",
   "execution_count": 7,
   "id": "7ffdb260",
   "metadata": {},
   "outputs": [],
   "source": [
    "conversations_api = base_url3\n",
    "HTTP_request_conversation = '/conversations'\n",
    "HTTP_request_conversation_info = '/conversation_info'"
   ]
  },
  {
   "cell_type": "code",
   "execution_count": 193,
   "id": "8c3d5a94",
   "metadata": {},
   "outputs": [
    {
     "data": {
      "text/plain": [
       "{'conversation_ids': [754893, 754894, 754895, 754896, 754897]}"
      ]
     },
     "execution_count": 193,
     "metadata": {},
     "output_type": "execute_result"
    }
   ],
   "source": [
    "# return open/active chats\n",
    "response_conversation = requests.post(conversations_api+HTTP_request_conversation, headers=header)\n",
    "json_response_conversation = response_conversation.json()\n",
    "json_response_conversation"
   ]
  },
  {
   "cell_type": "code",
   "execution_count": 195,
   "id": "020ca59d",
   "metadata": {},
   "outputs": [
    {
     "data": {
      "text/plain": [
       "{'conversation_id': '754893',\n",
       " 'messages': [{'message_id': '754893-0',\n",
       "   'text': \"hello, my money hasn't landed in my bank account yet. I want to know what happened\",\n",
       "   'created_at': '1640197668'}],\n",
       " 'merchant_id': '558392',\n",
       " 'subject': 'bank account receipt problem'}"
      ]
     },
     "execution_count": 195,
     "metadata": {},
     "output_type": "execute_result"
    }
   ],
   "source": [
    "#'created at:' is on a gtp format\n",
    "param_conver_info = {\"conversation_id\": \"754893\"}\n",
    "response_conversation_info = requests.post(conversations_api+HTTP_request_conversation_info,headers=header,json=param_conver_info)\n",
    "response_conversation_info.json()"
   ]
  },
  {
   "cell_type": "markdown",
   "id": "b047ce8e",
   "metadata": {},
   "source": [
    "### Function generate list of active conversations"
   ]
  },
  {
   "cell_type": "code",
   "execution_count": 8,
   "id": "d1449422",
   "metadata": {},
   "outputs": [],
   "source": [
    "# generate a list with the active conversation info\n",
    "def generate_act_conv_info():\n",
    "    response_conversation = requests.post(conversations_api+HTTP_request_conversation, headers=header)\n",
    "    json_response_conversation = response_conversation.json()\n",
    "    active_chat_list = []\n",
    "    for values in json_response_conversation.values():\n",
    "        for val in values:\n",
    "            params_conver_info = {'conversation_id': str(val)} #not the same key since it has an extra 's'\n",
    "            response_conversation = requests.post(conversations_api+HTTP_request_conversation_info, headers=header, json=params_conver_info)\n",
    "            active_chat_list.append(response_conversation.json())\n",
    "        \n",
    "        return active_chat_list"
   ]
  },
  {
   "cell_type": "code",
   "execution_count": 9,
   "id": "d526dc04",
   "metadata": {},
   "outputs": [
    {
     "data": {
      "text/plain": [
       "[{'conversation_id': '754893',\n",
       "  'messages': [{'message_id': '754893-0',\n",
       "    'text': \"hello, my money hasn't landed in my bank account yet. I want to know what happened\",\n",
       "    'created_at': '1640197668'}],\n",
       "  'merchant_id': '558392',\n",
       "  'subject': 'bank account receipt problem'},\n",
       " {'conversation_id': '754894',\n",
       "  'messages': [{'message_id': '754894-0',\n",
       "    'text': \"my chip is not connected to the internet. I've already tested my wifi and it's ok, the problem is on the chip itself\",\n",
       "    'created_at': '1640197670'}],\n",
       "  'merchant_id': '530364',\n",
       "  'subject': 'connection problem'},\n",
       " {'conversation_id': '754895',\n",
       "  'messages': [{'message_id': '754895-0',\n",
       "    'text': \"where is my credit card machine? it hasn't arrived yet, the delivery is already late\",\n",
       "    'created_at': '1640197673'}],\n",
       "  'merchant_id': '384923',\n",
       "  'subject': 'late delivery'},\n",
       " {'conversation_id': '754896',\n",
       "  'messages': [{'message_id': '754896-0',\n",
       "    'text': \"Hi! I wanted to know where my machine is. I'm going on a vacation next week and I won't be here to receive the machine, so I'd like to know what day the delivery is planned to let someone pick it up if I'm not home\",\n",
       "    'created_at': '1640197675'}],\n",
       "  'merchant_id': '395023',\n",
       "  'subject': 'check delivery address'},\n",
       " {'conversation_id': '754897',\n",
       "  'messages': [{'message_id': '754897-0',\n",
       "    'text': 'Good Morning! I bought the infinitepay machine and forgot the address that I asked to use to deliver the machine. Can you guys tell me where the machine will be delivered?',\n",
       "    'created_at': '1640197677'}],\n",
       "  'merchant_id': '849583',\n",
       "  'subject': 'delivery forecast'}]"
      ]
     },
     "execution_count": 9,
     "metadata": {},
     "output_type": "execute_result"
    }
   ],
   "source": [
    "generate_act_conv_info()"
   ]
  },
  {
   "cell_type": "markdown",
   "id": "536b1b62",
   "metadata": {},
   "source": [
    "## Function sales_id tracking and zip_code"
   ]
  },
  {
   "cell_type": "markdown",
   "id": "f9981b8d",
   "metadata": {},
   "source": [
    "**Given an id sale; Function to return dict: id, status, delivery_forecast, destination_zip_code**"
   ]
  },
  {
   "cell_type": "code",
   "execution_count": 253,
   "id": "a4181ecc",
   "metadata": {},
   "outputs": [],
   "source": [
    "sale_id_api= base_url1\n",
    "HTTP_request_sales_tracking = '/tracking'\n",
    "HTTP_request_sales_zip_code = '/zip_code'"
   ]
  },
  {
   "cell_type": "markdown",
   "id": "7ec36cef",
   "metadata": {},
   "source": [
    "### Tracking"
   ]
  },
  {
   "cell_type": "code",
   "execution_count": 290,
   "id": "629aeb98",
   "metadata": {},
   "outputs": [],
   "source": [
    "def generate_sale_tracking_info(params_request):\n",
    "    url = sale_id_api+HTTP_request_sales_tracking\n",
    "    \n",
    "    response_sale_track = requests.post(url, json=params_request, headers=header)\n",
    "    return response_sale_track.json()"
   ]
  },
  {
   "cell_type": "code",
   "execution_count": 291,
   "id": "ce867156",
   "metadata": {},
   "outputs": [
    {
     "data": {
      "text/plain": [
       "{'id': '123456',\n",
       " 'status': 'On delivery route',\n",
       " 'delivery_forecast': '01/12/2021',\n",
       " 'destination_zip_code': '31160550'}"
      ]
     },
     "execution_count": 291,
     "metadata": {},
     "output_type": "execute_result"
    }
   ],
   "source": [
    "params_sale_id_test = {\"id_sale\": \"123456\"}\n",
    "generate_sale_tracking_info(params_request= params_sale_id_test)"
   ]
  },
  {
   "cell_type": "code",
   "execution_count": 139,
   "id": "0d5a3b1f",
   "metadata": {},
   "outputs": [],
   "source": [
    "#function only confirm info, is it needed ?\n",
    "#should return dict with info on sale_id\n",
    "# def call_api_id_sale(base_url, HTTP_request, params_request, auth=header):\n",
    "#     check_type = [base_url, HTTP_request]\n",
    "    \n",
    "#     try:\n",
    "#         for arg in check_type: #verify base_url & HTTP_request are str type\n",
    "#             assert isinstance(arg, str)\n",
    "        \n",
    "#         assert isinstance(params_request, dict) #check that params are a dict type\n",
    "        \n",
    "#         if HTTP_request.lower() == 'tracking'\n",
    "    \n",
    "#     except:\n",
    "#         return \"Type Error: HTTP_request or base_url not a str | params_request not a dict\"\n",
    "    "
   ]
  },
  {
   "cell_type": "markdown",
   "id": "5fde17bb",
   "metadata": {},
   "source": [
    "### Zip code"
   ]
  },
  {
   "cell_type": "code",
   "execution_count": 320,
   "id": "e68f3f1d",
   "metadata": {},
   "outputs": [],
   "source": [
    "def generate_sale_zip_info(params_request):\n",
    "    url = sale_id_api+HTTP_request_sales_zip_code\n",
    "    \n",
    "    response_sale_zip = requests.post(url, json=params_request, headers=header)\n",
    "    return response_sale_zip.json()"
   ]
  },
  {
   "cell_type": "code",
   "execution_count": 321,
   "id": "b77867dc",
   "metadata": {},
   "outputs": [
    {
     "data": {
      "text/plain": [
       "{'neighborhood': 'Palmares',\n",
       " 'ZIP_code': '31160-550',\n",
       " 'city': 'Belo Horizonte',\n",
       " 'complement': '',\n",
       " 'street': 'Rua Professor Patrocínio Filho',\n",
       " 'state': 'MG'}"
      ]
     },
     "execution_count": 321,
     "metadata": {},
     "output_type": "execute_result"
    }
   ],
   "source": [
    "params_zip_code_test = {\"zip_code\": \"31160550\"}\n",
    "generate_sale_zip_info(params_request=params_zip_code_test)"
   ]
  },
  {
   "cell_type": "markdown",
   "id": "01e6edec",
   "metadata": {},
   "source": [
    "## function Chip info"
   ]
  },
  {
   "cell_type": "code",
   "execution_count": 348,
   "id": "6e54639d",
   "metadata": {},
   "outputs": [],
   "source": [
    "chip_api= base_url2\n",
    "HTTP_request_chip = '/chip_status'"
   ]
  },
  {
   "cell_type": "code",
   "execution_count": 353,
   "id": "c15426b4",
   "metadata": {},
   "outputs": [],
   "source": [
    "def generate_chip_info(params_request):\n",
    "    url = chip_api+HTTP_request_chip\n",
    "    \n",
    "    response_chip = requests.post(url, json=params_request, headers=header)\n",
    "    return response_chip.json()"
   ]
  },
  {
   "cell_type": "code",
   "execution_count": 354,
   "id": "a9a676f9",
   "metadata": {},
   "outputs": [
    {
     "data": {
      "text/plain": [
       "{'id': 'CHIP37648', 'status': 'active', 'description': 'OK'}"
      ]
     },
     "execution_count": 354,
     "metadata": {},
     "output_type": "execute_result"
    }
   ],
   "source": [
    "params_chip = {\"chip_id\": \"CHIP37648\"}\n",
    "generate_chip_info(params_chip)"
   ]
  },
  {
   "cell_type": "code",
   "execution_count": null,
   "id": "3f120b10",
   "metadata": {},
   "outputs": [],
   "source": []
  }
 ],
 "metadata": {
  "kernelspec": {
   "display_name": "Python 3 (ipykernel)",
   "language": "python",
   "name": "python3"
  },
  "language_info": {
   "codemirror_mode": {
    "name": "ipython",
    "version": 3
   },
   "file_extension": ".py",
   "mimetype": "text/x-python",
   "name": "python",
   "nbconvert_exporter": "python",
   "pygments_lexer": "ipython3",
   "version": "3.8.12"
  },
  "toc": {
   "base_numbering": 1,
   "nav_menu": {},
   "number_sections": true,
   "sideBar": true,
   "skip_h1_title": false,
   "title_cell": "Table of Contents",
   "title_sidebar": "Contents",
   "toc_cell": false,
   "toc_position": {},
   "toc_section_display": true,
   "toc_window_display": false
  }
 },
 "nbformat": 4,
 "nbformat_minor": 5
}
